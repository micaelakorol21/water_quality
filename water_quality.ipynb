{
  "cells": [
    {
      "cell_type": "markdown",
      "metadata": {
        "id": "view-in-github",
        "colab_type": "text"
      },
      "source": [
        "<a href=\"https://colab.research.google.com/github/micaelakorol21/water_quality/blob/main/water_quality.ipynb\" target=\"_parent\"><img src=\"https://colab.research.google.com/assets/colab-badge.svg\" alt=\"Open In Colab\"/></a>"
      ]
    },
    {
      "cell_type": "code",
      "execution_count": 231,
      "id": "7fcb1ab0-2ff8-4779-a10e-93d94e7d9e02",
      "metadata": {
        "id": "7fcb1ab0-2ff8-4779-a10e-93d94e7d9e02"
      },
      "outputs": [],
      "source": [
        "import pandas as pd\n",
        "import numpy as np\n",
        "import seaborn as sns\n",
        "import matplotlib.pyplot as plt\n",
        "from sklearn.preprocessing import StandardScaler\n",
        "from sklearn.model_selection import train_test_split\n",
        "from sklearn.tree import DecisionTreeClassifier"
      ]
    },
    {
      "cell_type": "markdown",
      "id": "ad92ea60-d5f1-4b8a-bb28-84ea2a06e2bc",
      "metadata": {
        "id": "ad92ea60-d5f1-4b8a-bb28-84ea2a06e2bc"
      },
      "source": [
        "<h1>Clasificación de Agua Potable</h1>\n",
        "<h2>🚰El objetivo de este proyecto es predecir si una muestra de agua es potable basándonos en características físico-químicas y ambientales.</h2>"
      ]
    },
    {
      "cell_type": "code",
      "execution_count": null,
      "id": "e2781e4d-5d62-40e8-afc3-b0e76700b045",
      "metadata": {
        "id": "e2781e4d-5d62-40e8-afc3-b0e76700b045"
      },
      "outputs": [],
      "source": [
        "df = pd.read_csv('https://media.githubusercontent.com/media/micaelakorol21/dataset_water_quality/refs/heads/main/Water_quality.csv')"
      ]
    },
    {
      "cell_type": "markdown",
      "id": "b00b6cf9-92d6-4327-9d00-02ecf7806370",
      "metadata": {
        "id": "b00b6cf9-92d6-4327-9d00-02ecf7806370"
      },
      "source": [
        "<p style=\"font-size:20px;\">🔍Exploración de los datos:</p>"
      ]
    },
    {
      "cell_type": "code",
      "execution_count": null,
      "id": "632c5296-3f12-4935-83df-1e8c86251cd5",
      "metadata": {
        "id": "632c5296-3f12-4935-83df-1e8c86251cd5"
      },
      "outputs": [],
      "source": [
        "df.shape\n",
        "# El dataset poseé: 24 columnas y 698.575 filas."
      ]
    },
    {
      "cell_type": "code",
      "execution_count": null,
      "id": "c9f72914-9800-470d-aa24-0e579b3e6738",
      "metadata": {
        "id": "c9f72914-9800-470d-aa24-0e579b3e6738"
      },
      "outputs": [],
      "source": [
        "# Observamos los tipos de datos de cada columna:\n",
        "df.dtypes"
      ]
    },
    {
      "cell_type": "code",
      "execution_count": null,
      "id": "36ec38f1-52a4-4208-b5cf-b7238e4bc1c4",
      "metadata": {
        "id": "36ec38f1-52a4-4208-b5cf-b7238e4bc1c4"
      },
      "outputs": [],
      "source": [
        "# Observamos las columnas que tienen datos faltantes:\n",
        "df.isna().sum()"
      ]
    },
    {
      "cell_type": "code",
      "execution_count": null,
      "id": "895a22fc-5516-4f8a-90eb-e02aca82f20f",
      "metadata": {
        "id": "895a22fc-5516-4f8a-90eb-e02aca82f20f"
      },
      "outputs": [],
      "source": [
        "# Calculamos el maximo valor faltante:\n",
        "max_missing = df.isna().sum().max()\n",
        "print(f\"El valor maximo de faltantes es de {max_missing}\")"
      ]
    },
    {
      "cell_type": "markdown",
      "id": "6e9c3d89-9c4c-4b75-9ccd-2822fbea6405",
      "metadata": {
        "id": "6e9c3d89-9c4c-4b75-9ccd-2822fbea6405"
      },
      "source": [
        "<b style='font-size:22px'>Renombramos las columnas</b>"
      ]
    },
    {
      "cell_type": "code",
      "execution_count": null,
      "id": "b727d3f5-7ac5-40b3-8582-120f2861bdfa",
      "metadata": {
        "id": "b727d3f5-7ac5-40b3-8582-120f2861bdfa"
      },
      "outputs": [],
      "source": [
        "df = df.rename(columns={\n",
        "    'Index': 'Índice',\n",
        "    'pH': 'pH',\n",
        "    'Iron': 'Plata',\n",
        "    'Nitrate': 'Nitrato',\n",
        "    'Chloride': 'Cloruros',\n",
        "    'Lead': 'Plomo',\n",
        "    'Zinc': 'Zinc',\n",
        "    'Color': 'Color',\n",
        "    'Turbidity': 'Turbidez',\n",
        "    'Fluoride': 'Fluoruro',\n",
        "    'Copper': 'Cobre',\n",
        "    'Odor': 'Olor',\n",
        "    'Sulfate': 'Sulfatos',\n",
        "    'Conductivity': 'Conductividad',\n",
        "    'Chlorine': 'Cloro residual libre',\n",
        "    'Manganese': 'Manganeso',\n",
        "    'Total Dissolved Solids': 'Sólidos disueltos totales',\n",
        "    'Source': 'Fuente',\n",
        "    'Water Temperature': 'Temperatura del agua',\n",
        "    'Air Temperature': 'Temperatura del aire',\n",
        "    'Month': 'Mes',\n",
        "    'Day': 'Día',\n",
        "    'Time of Day': 'Hora del día',\n",
        "    'Target': 'Objetivo'\n",
        "})"
      ]
    },
    {
      "cell_type": "markdown",
      "id": "8d648c33-9b9b-43e7-b04a-f460de30ca0c",
      "metadata": {
        "id": "8d648c33-9b9b-43e7-b04a-f460de30ca0c"
      },
      "source": [
        "<b style=\"font-size:16px\">El conjunto de datos incluye 24 columnas, de las cuales 23 son variables predictoras y 1 es la variable objetivo que indica si el agua <b style='color:red'> es potable (1) o no (0)  </b> .</b>"
      ]
    },
    {
      "cell_type": "code",
      "execution_count": null,
      "id": "dc70b081-9323-4608-a373-9c0db9c00f59",
      "metadata": {
        "id": "dc70b081-9323-4608-a373-9c0db9c00f59"
      },
      "outputs": [],
      "source": [
        "df.columns"
      ]
    },
    {
      "cell_type": "markdown",
      "id": "30d8c7d9-38dd-40c9-9582-efc167fc0bf1",
      "metadata": {
        "id": "30d8c7d9-38dd-40c9-9582-efc167fc0bf1"
      },
      "source": [
        "<b style=\"font-size:22px;\"> Análisis de la variable objetivo: Objetivo</b>"
      ]
    },
    {
      "cell_type": "code",
      "execution_count": null,
      "id": "d62f763d-d5dc-49b0-a0a7-425ce940384b",
      "metadata": {
        "id": "d62f763d-d5dc-49b0-a0a7-425ce940384b"
      },
      "outputs": [],
      "source": [
        "# Conteo de clases\n",
        "df['Objetivo'].value_counts()"
      ]
    },
    {
      "cell_type": "code",
      "execution_count": null,
      "id": "b5a4767b-6fa0-4622-8aa6-5c76a44ba8e6",
      "metadata": {
        "id": "b5a4767b-6fa0-4622-8aa6-5c76a44ba8e6"
      },
      "outputs": [],
      "source": [
        "sns.countplot(data=df, x='Objetivo')\n",
        "plt.title('Distribución de Agua Potable vs No Potable')\n",
        "plt.xticks([0, 1], ['No Potable (0)', 'Potable (1)'])\n",
        "plt.ylabel('Cantidad de muestras')\n",
        "plt.xlabel('Clase')\n",
        "plt.show()"
      ]
    },
    {
      "cell_type": "markdown",
      "id": "9b82aa87-a7c1-48c0-a29d-c22a5b038964",
      "metadata": {
        "id": "9b82aa87-a7c1-48c0-a29d-c22a5b038964"
      },
      "source": [
        "<b style='font-size:16px'>El dataset está desbalanceado: hay más muestras de agua no potable (457841) que de agua potable (240734).</b>"
      ]
    },
    {
      "cell_type": "markdown",
      "id": "10d5ff11-ccab-418a-9e41-06e76a5ff32c",
      "metadata": {
        "id": "10d5ff11-ccab-418a-9e41-06e76a5ff32c"
      },
      "source": [
        "<b style=\"font-size:22px\">Análisis de la columna pH </b>"
      ]
    },
    {
      "cell_type": "code",
      "execution_count": null,
      "id": "43f13b6c-5b86-4c77-8365-94458911372d",
      "metadata": {
        "id": "43f13b6c-5b86-4c77-8365-94458911372d"
      },
      "outputs": [],
      "source": [
        "# Observamos la distribuición de la columna pH:\n",
        "plt.figure(figsize=(10, 6))\n",
        "sns.histplot(df['pH'], kde=True)\n",
        "plt.title('pH')\n",
        "plt.xlabel('Valor')\n",
        "plt.ylabel('Frecuencia')\n",
        "plt.show()"
      ]
    },
    {
      "cell_type": "code",
      "execution_count": null,
      "id": "3b392254-f6c7-4124-9943-83999b354fff",
      "metadata": {
        "id": "3b392254-f6c7-4124-9943-83999b354fff"
      },
      "outputs": [],
      "source": [
        "df['pH'].describe()"
      ]
    },
    {
      "cell_type": "code",
      "execution_count": null,
      "id": "910887ae-eab9-4b6d-ba61-37fa4289a398",
      "metadata": {
        "id": "910887ae-eab9-4b6d-ba61-37fa4289a398"
      },
      "outputs": [],
      "source": [
        "#Eliminar outliers de la fila pH\n",
        "col = 'pH'\n",
        "Q1 = df[col].quantile(0.25)\n",
        "Q3 = df[col].quantile(0.75)\n",
        "IQR = Q3 - Q1\n",
        "# Eliminamos las filas que contienen valores en la columna pH que están fuera del rango definido\n",
        "df = df[(df[col] >= Q1 - 1.5 * IQR) & (df[col] <= Q3 + 1.5 * IQR)]\n",
        "df['pH'].isna().sum() #Analizo si hay valor nulos, me da 0.\n",
        "df['pH'].describe()"
      ]
    },
    {
      "cell_type": "code",
      "execution_count": null,
      "id": "a6c01546-c3a9-4710-b2d2-8599a5e544c6",
      "metadata": {
        "id": "a6c01546-c3a9-4710-b2d2-8599a5e544c6"
      },
      "outputs": [],
      "source": [
        "plt.figure()\n",
        "sns.histplot(df['pH'], kde=True)\n",
        "plt.title('pH')\n",
        "plt.xlabel('Valor')\n",
        "plt.ylabel('Frecuencia')\n",
        "plt.show() # ¿no es mejor usar z score?"
      ]
    },
    {
      "cell_type": "markdown",
      "id": "c3f19e4d-7881-4759-addf-7f3cb1e3fe72",
      "metadata": {
        "id": "c3f19e4d-7881-4759-addf-7f3cb1e3fe72"
      },
      "source": [
        "<p>Análisis de pH 📝 Después de eliminar los valores nulos y los outliers en la columna pH, se observaron variaciones significativas en las estadísticas descriptivas. Se eliminaron aproximadamente 29,870 observaciones, principalmente debido a valores extremos o faltantes.\n",
        "\n",
        "En cuanto a la media, hubo un ligero aumento, pasando de 7.45 a 7.46, lo que sugiere que los valores atípicos eliminados estaban en su mayoría por debajo del promedio general. La desviación estándar también se redujo notablemente de 0.85 a 0.73, lo que indica que los datos restantes están ahora más concentrados alrededor de la media, con menos dispersión.\n",
        "\n",
        "El valor mínimo cambió de 2.06 a 5.36 y el máximo de 12.89 a 9.57, lo que confirma que se eliminaron los valores más extremos en ambos extremos del rango. Asimismo, los percentiles (25%, 50% y 75%) se ajustaron ligeramente, reflejando una distribución más limpia y estable</p>"
      ]
    },
    {
      "cell_type": "code",
      "execution_count": null,
      "id": "a31ce21b-d8a7-4bef-a17c-b6aa974d96c2",
      "metadata": {
        "id": "a31ce21b-d8a7-4bef-a17c-b6aa974d96c2"
      },
      "outputs": [],
      "source": [
        "df.isna().sum()"
      ]
    },
    {
      "cell_type": "markdown",
      "id": "c0d3abb9-d942-429b-b076-31cd8a9fa159",
      "metadata": {
        "id": "c0d3abb9-d942-429b-b076-31cd8a9fa159"
      },
      "source": [
        "<b style=\"font-size:22px\">Análisis de la columna: Plata </b>"
      ]
    },
    {
      "cell_type": "code",
      "execution_count": null,
      "id": "0a973c9d-78a3-430e-a987-509d2d1af168",
      "metadata": {
        "id": "0a973c9d-78a3-430e-a987-509d2d1af168"
      },
      "outputs": [],
      "source": [
        "df['Plata'].describe()"
      ]
    },
    {
      "cell_type": "code",
      "execution_count": null,
      "id": "29c557d3-da2a-4c6d-b13b-824e990b87af",
      "metadata": {
        "id": "29c557d3-da2a-4c6d-b13b-824e990b87af"
      },
      "outputs": [],
      "source": [
        "col_p = 'Plata'\n",
        "q1p = df[col_p].quantile(0.25)\n",
        "q3p = df[col_p].quantile(0.75)\n",
        "iqrp = q3p - q1p\n",
        "df = df[(df[col_p] >= q1p - 1.5 * iqrp) & (df[col_p] <= q3p + 1.5 * iqrp)]\n",
        "print(df[col_p].describe())"
      ]
    },
    {
      "cell_type": "code",
      "execution_count": null,
      "id": "cb85e73c-0d8e-4630-886a-8ab41b35231b",
      "metadata": {
        "id": "cb85e73c-0d8e-4630-886a-8ab41b35231b"
      },
      "outputs": [],
      "source": [
        "# Crear figura y ejes\n",
        "fig, ax = plt.subplots(figsize=(10, 6))\n",
        "\n",
        "# Histograma normal acotado hasta 0.001\n",
        "sns.histplot(df['Plata'], kde=True, ax=ax)\n",
        "\n",
        "# Acotar eje X para observar mejor valores pequeños\n",
        "ax.set_xlim(0, 0.001)\n",
        "\n",
        "# Agregar títulos y etiquetas\n",
        "ax.set_title('Distribución de Plata (Escala normal, hasta 0.001)')\n",
        "ax.set_xlabel('Valor (¿g/L o mg/L?)')  # Cambiar al confirmar la unidad\n",
        "ax.set_ylabel('Frecuencia')\n",
        "\n",
        "# Ajustar presentación\n",
        "plt.tight_layout()\n",
        "plt.show()"
      ]
    },
    {
      "cell_type": "markdown",
      "id": "d8b3c857-b03c-4679-b40b-108dd551af2a",
      "metadata": {
        "id": "d8b3c857-b03c-4679-b40b-108dd551af2a"
      },
      "source": [
        "<b style=\"font-size:22px\">Análisis de la columna: Nitrato </b>"
      ]
    },
    {
      "cell_type": "code",
      "execution_count": null,
      "id": "32fb8e6c-59e2-4fc8-95e0-32ef94c08afb",
      "metadata": {
        "id": "32fb8e6c-59e2-4fc8-95e0-32ef94c08afb"
      },
      "outputs": [],
      "source": [
        "df['Nitrato'].describe()"
      ]
    },
    {
      "cell_type": "code",
      "execution_count": null,
      "id": "b2286268-791a-4546-aad9-b90b913342e2",
      "metadata": {
        "id": "b2286268-791a-4546-aad9-b90b913342e2"
      },
      "outputs": [],
      "source": [
        "# Observamos la distribuición de la columna Nitrato:\n",
        "\n",
        "plt.figure(figsize=(10, 6))\n",
        "sns.histplot(df['Nitrato'], kde=True)\n",
        "plt.title('Nitrato')\n",
        "plt.xlabel('Valor')\n",
        "plt.ylabel('Frecuencia')\n",
        "plt.show()"
      ]
    },
    {
      "cell_type": "code",
      "execution_count": null,
      "id": "9c0c556e-3326-4142-8cd3-18d055e5ce3e",
      "metadata": {
        "id": "9c0c556e-3326-4142-8cd3-18d055e5ce3e"
      },
      "outputs": [],
      "source": [
        "df['Nitrato'].describe()"
      ]
    },
    {
      "cell_type": "code",
      "execution_count": null,
      "id": "affec5db-5d59-479f-b9cd-d74ae5f5158a",
      "metadata": {
        "id": "affec5db-5d59-479f-b9cd-d74ae5f5158a"
      },
      "outputs": [],
      "source": [
        "#Eliminar outliers de la columna Nitrato\n",
        "\n",
        "col2 = 'Nitrato'  # ejemplo\n",
        "Q1 = df[col2].quantile(0.25)\n",
        "Q3 = df[col2].quantile(0.75)\n",
        "IQR = Q3 - Q1\n",
        "df = df[(df[col2] >= Q1 - 1.5 * IQR) & (df[col2] <= Q3 + 1.5 * IQR)]\n",
        "df['Nitrato'].isna().sum() #Analizo si hay valor nulos, me da 0.\n",
        "df['Nitrato'].describe()"
      ]
    },
    {
      "cell_type": "code",
      "execution_count": null,
      "id": "1c79e248-d7ce-4d97-b1a4-4983013eedbd",
      "metadata": {
        "id": "1c79e248-d7ce-4d97-b1a4-4983013eedbd"
      },
      "outputs": [],
      "source": [
        "plt.figure()\n",
        "sns.histplot(df['Nitrato'], kde=True)\n",
        "plt.title('Nitrato')\n",
        "plt.xlabel('Valor')\n",
        "plt.ylabel('Frecuencia')\n",
        "plt.show()"
      ]
    },
    {
      "cell_type": "markdown",
      "id": "06d36b1f-c114-438c-9a37-ac11e8b5f62d",
      "metadata": {
        "id": "06d36b1f-c114-438c-9a37-ac11e8b5f62d"
      },
      "source": [
        "<p>Análisis de Nitrato 📝 Después de eliminar los valores nulos y los outliers, se eliminaron aproximadamente 17,370 observaciones, principalmente debido a valores extremos o faltantes.\n",
        "\n",
        "En cuanto a la media, pasó de 6.13 a 5.76, lo que sugiere que los valores atípicos eliminados estaban en su mayoría por arriba del promedio general. La desviación estándar también se redujo de 3.21 a 2.28, lo que indica que los datos restantes están ahora más concentrados alrededor de la media, con menos dispersión.\n",
        "\n",
        "El valor mínimo no cambió y el máximo paso de 73.07 a 13.14, lo que confirma que se eliminaron los valores más extremos en el extremo superior del rango. Asimismo, los percentiles (25%, 50% y 75%) se ajustaron ligeramente, reflejando una distribución más limpia y estable\n",
        "\n",
        "El limite del código alimentario argentino para nitratos es de 45 mg/l, hay que evaluar que unidad maneja el dataset para coincidir con el promedio aprox.</p>"
      ]
    },
    {
      "cell_type": "markdown",
      "id": "1dcf8729-0432-430a-91bd-ae410c61d561",
      "metadata": {
        "id": "1dcf8729-0432-430a-91bd-ae410c61d561"
      },
      "source": [
        "<b style=\"font-size:22px\">Análisis de la columna: Cloruros</b>"
      ]
    },
    {
      "cell_type": "code",
      "execution_count": null,
      "id": "4943f88f-3550-4771-bed5-c26dedcd7ccf",
      "metadata": {
        "id": "4943f88f-3550-4771-bed5-c26dedcd7ccf"
      },
      "outputs": [],
      "source": [
        "# Observamos la distribuición de la columna Cloruros:\n",
        "plt.figure(figsize=(10, 6))\n",
        "sns.histplot(df['Cloruros'], kde=True)\n",
        "plt.title('Cloruros')\n",
        "plt.xlabel('Valor')\n",
        "plt.ylabel('Frecuencia')\n",
        "plt.show()"
      ]
    },
    {
      "cell_type": "code",
      "execution_count": null,
      "id": "1a578629-e2ba-40d8-80e7-50ff52d60096",
      "metadata": {
        "id": "1a578629-e2ba-40d8-80e7-50ff52d60096"
      },
      "outputs": [],
      "source": [
        "df['Cloruros'].describe()"
      ]
    },
    {
      "cell_type": "code",
      "execution_count": null,
      "id": "9e58df4d-7fae-480a-b16c-7857574d805b",
      "metadata": {
        "id": "9e58df4d-7fae-480a-b16c-7857574d805b"
      },
      "outputs": [],
      "source": [
        "#Eliminar outliers de la fila Cloruros\n",
        "\n",
        "col3 = 'Cloruros'  # ejemplo\n",
        "Q1 = df[col3].quantile(0.25)\n",
        "Q3 = df[col3].quantile(0.75)\n",
        "IQR = Q3 - Q1\n",
        "df = df[(df[col3] >= Q1 - 1.5 * IQR) & (df[col3] <= Q3 + 1.5 * IQR)]\n",
        "df['Cloruros'].isna().sum() #Analizo si hay valor nulos, me da 0.\n",
        "df['Cloruros'].describe()"
      ]
    },
    {
      "cell_type": "code",
      "execution_count": null,
      "id": "24ae2b06-e848-47d1-8ccb-e04dba407885",
      "metadata": {
        "id": "24ae2b06-e848-47d1-8ccb-e04dba407885"
      },
      "outputs": [],
      "source": [
        "plt.figure()\n",
        "sns.histplot(df['Cloruros'], kde=True)\n",
        "plt.title('Cloruros')\n",
        "plt.xlabel('Valor')\n",
        "plt.ylabel('Frecuencia')\n",
        "plt.show()"
      ]
    },
    {
      "cell_type": "markdown",
      "id": "6f66af98-b300-4dff-b0e0-d868695a7b78",
      "metadata": {
        "id": "6f66af98-b300-4dff-b0e0-d868695a7b78"
      },
      "source": [
        "<p>Análisis de Cloruros 📝 Después de eliminar los valores nulos y los outliers, se eliminaron 15,717 observaciones, principalmente debido a valores extremos o faltantes.\n",
        "\n",
        "En cuanto a la media, pasó de 182.68 a 175.57, lo que sugiere que los valores atípicos eliminados estaban en su mayoría por arriba del promedio general. La desviación estándar también se redujo de 66.58 a 52.55, lo que indica que los datos restantes están ahora más concentrados alrededor de la media, con menos dispersión.\n",
        "\n",
        "El valor mínimo no cambió y el máximo paso de 1321 a 334, lo que confirma que se eliminaron los valores más extremos en el extremo superior del rango. Asimismo, los percentiles (25%, 50% y 75%) se ajustaron ligeramente, reflejando una distribución más limpia y estable\n",
        "\n",
        "El limite del código alimentario argentino para nitratos es de 200 mg/l, se considera que utiliza esta unidad ya que tiene coherencia.</p>"
      ]
    },
    {
      "cell_type": "markdown",
      "id": "4df3c8f4-602e-4fa6-a513-7fc80bcdcacc",
      "metadata": {
        "id": "4df3c8f4-602e-4fa6-a513-7fc80bcdcacc"
      },
      "source": [
        "<b style=\"font-size:22px\">Análisis de la columna: Zinc</b>"
      ]
    },
    {
      "cell_type": "code",
      "execution_count": null,
      "id": "5706f00a-2bf0-47c7-bb03-d2ae8ff011b8",
      "metadata": {
        "id": "5706f00a-2bf0-47c7-bb03-d2ae8ff011b8"
      },
      "outputs": [],
      "source": [
        "# Observamos la distribuición de la columna Zinc:\n",
        "plt.figure(figsize=(10, 6))\n",
        "sns.histplot(df['Zinc'], kde=True)\n",
        "plt.title('Zinc')\n",
        "plt.xlabel('Valor')\n",
        "plt.ylabel('Frecuencia')\n",
        "plt.show()"
      ]
    },
    {
      "cell_type": "code",
      "execution_count": null,
      "id": "2c4630f4-56f1-41a4-80fb-2894cd873868",
      "metadata": {
        "id": "2c4630f4-56f1-41a4-80fb-2894cd873868"
      },
      "outputs": [],
      "source": [
        "df['Zinc'].describe()"
      ]
    },
    {
      "cell_type": "code",
      "execution_count": null,
      "id": "6b4ae3c3-c665-41e9-877c-3e8baf3316b7",
      "metadata": {
        "id": "6b4ae3c3-c665-41e9-877c-3e8baf3316b7"
      },
      "outputs": [],
      "source": [
        "#Eliminar outliers de la fila Zinc\n",
        "\n",
        "col5 = 'Zinc'  # ejemplo\n",
        "Q1 = df[col5].quantile(0.25)\n",
        "Q3 = df[col5].quantile(0.75)\n",
        "IQR = Q3 - Q1\n",
        "df = df[(df[col5] >= Q1 - 2.5 * IQR) & (df[col5] <= Q3 + 2.5 * IQR)]\n",
        "df['Zinc'].isna().sum() #Analizo si hay valor nulos, me da 0.\n",
        "df['Zinc'].describe()"
      ]
    },
    {
      "cell_type": "code",
      "execution_count": null,
      "id": "25898f1c-63f5-437d-a4b6-0ab697bbdd82",
      "metadata": {
        "id": "25898f1c-63f5-437d-a4b6-0ab697bbdd82"
      },
      "outputs": [],
      "source": [
        "#Volvemos a graficar\n",
        "plt.figure()\n",
        "sns.histplot(df['Zinc'], kde=True)\n",
        "plt.title('Zinc')\n",
        "plt.xlabel('Valor')\n",
        "plt.ylabel('Frecuencia')\n",
        "plt.show()"
      ]
    },
    {
      "cell_type": "markdown",
      "id": "573957f1-e7e7-486c-b727-388133e4beb4",
      "metadata": {
        "id": "573957f1-e7e7-486c-b727-388133e4beb4"
      },
      "source": [
        "<p>Análisis de Zinc 📝 Después de eliminar los valores nulos y los outliers, se eliminaron solo 4,594 observaciones, principalmente debido a valores extremos o faltantes.\n",
        "\n",
        "En cuanto a la media, pasó de 1.53 a 1.46, lo que sugiere que los valores atípicos eliminados estaban en su mayoría por arriba del promedio general. La desviación estándar también se redujo de 1.50 a 1.42, lo que indica que los datos restantes están ahora más concentrados alrededor de la media, con menos dispersión.\n",
        "\n",
        "El valor mínimo no cambió y el máximo paso de 28.36 a 6.72, lo que confirma que se eliminaron los valores más extremos en el extremo superior del rango. Asimismo, los percentiles (25%, 50% y 75%) se ajustaron ligeramente, reflejando una distribución más limpia y estable\n",
        "\n",
        "El limite del código alimentario argentino para nitratos es de 5 mg/l, se considera que utiliza esta unidad ya que tiene coherencia.</p>"
      ]
    },
    {
      "cell_type": "markdown",
      "id": "194062d8-63ed-4596-94d7-95162c2cab0a",
      "metadata": {
        "id": "194062d8-63ed-4596-94d7-95162c2cab0a"
      },
      "source": [
        "<b style='font-size:22px'> Análisis de la columna: Plomo </b>"
      ]
    },
    {
      "cell_type": "code",
      "execution_count": null,
      "id": "284d77aa-5592-445f-924d-e48e6e49e329",
      "metadata": {
        "id": "284d77aa-5592-445f-924d-e48e6e49e329"
      },
      "outputs": [],
      "source": [
        "df['Plomo'].describe()"
      ]
    },
    {
      "cell_type": "markdown",
      "id": "82e9a5e0-3b6e-4838-8d98-8c9e8016af89",
      "metadata": {
        "id": "82e9a5e0-3b6e-4838-8d98-8c9e8016af89"
      },
      "source": [
        "<p>La variable \"Plomo\" contiene principalmente números muy pequeños, con un promedio de 0.0013 y una desviación estándar de 0.0305. Dado que los valores son tan bajos, aplicamos una transformación logarítmica para comprimir los valores y mejorar la distribución, facilitando su análisis y modelado posterior.</p>"
      ]
    },
    {
      "cell_type": "code",
      "execution_count": null,
      "id": "87f32f1f-38e1-4f06-a58f-459baf38ff41",
      "metadata": {
        "id": "87f32f1f-38e1-4f06-a58f-459baf38ff41"
      },
      "outputs": [],
      "source": [
        "df['Plomo'] = df['Plomo'] + 1e-10  # evitar log(0)\n",
        "\n",
        "# Aplicar el logaritmo natural\n",
        "df['Plomo'] = np.log(df['Plomo'])"
      ]
    },
    {
      "cell_type": "code",
      "execution_count": null,
      "id": "0fda379c-69ef-4eff-b8a2-379bde79c90b",
      "metadata": {
        "id": "0fda379c-69ef-4eff-b8a2-379bde79c90b"
      },
      "outputs": [],
      "source": [
        "# Eliminamos outliers:\n",
        "\n",
        "col_p = 'Plomo'\n",
        "q1p = df[col_p].quantile(0.25)\n",
        "q3p = df[col_p].quantile(0.75)\n",
        "iqrp = q3p - q1p\n",
        "df = df[(df[col_p] >= q1p - 1.5 * iqrp) & (df[col_p] <= q3p + 1.5 * iqrp)]\n",
        "#Analizo si quedó algún valor nulo:\n",
        "df['Plomo'].isna().sum()\n",
        "print(df[col_p].describe())"
      ]
    },
    {
      "cell_type": "code",
      "execution_count": null,
      "id": "cd4b205e-71ea-4b5c-b1f4-30df89a9ccd0",
      "metadata": {
        "id": "cd4b205e-71ea-4b5c-b1f4-30df89a9ccd0"
      },
      "outputs": [],
      "source": [
        "# Visualización con histograma:\n",
        "plt.figure(figsize=(8, 6))\n",
        "sns.histplot(df['Plomo'], kde=True, bins=50)\n",
        "plt.title('Distribución de Plomo después de aplicar Logaritmo Natural')\n",
        "plt.xlabel('Valor de Plomo (log)')\n",
        "plt.ylabel('Frecuencia')\n",
        "plt.show()"
      ]
    },
    {
      "cell_type": "markdown",
      "id": "253d3ecb-f954-4f4d-ab70-7ea3f1cf57fd",
      "metadata": {
        "id": "253d3ecb-f954-4f4d-ab70-7ea3f1cf57fd"
      },
      "source": [
        "<p>La transformación logarítmica expandió la escala de los valores pequeños, mostrando la alta concentración de valores de \"Plomo\" cercanos a cero en un pico negativo. A pesar de esto, la distribución sigue siendo significativamente no normal, con la mayoría de los datos agrupados en valores muy bajos.\n",
        "</p>"
      ]
    },
    {
      "cell_type": "markdown",
      "id": "d693e800-b431-4b2b-b51d-57c437df222f",
      "metadata": {
        "id": "d693e800-b431-4b2b-b51d-57c437df222f"
      },
      "source": [
        "<b style='font-size:22px'> Análisis de la columna: Manganeso </b>"
      ]
    },
    {
      "cell_type": "code",
      "execution_count": null,
      "id": "3b05ec41-f728-47b9-a9df-1fe4f5698581",
      "metadata": {
        "scrolled": true,
        "id": "3b05ec41-f728-47b9-a9df-1fe4f5698581"
      },
      "outputs": [],
      "source": [
        "df['Manganeso'].describe()"
      ]
    },
    {
      "cell_type": "markdown",
      "id": "331ec631-ad5d-42c3-bbc4-eaf2b16a5cbd",
      "metadata": {
        "id": "331ec631-ad5d-42c3-bbc4-eaf2b16a5cbd"
      },
      "source": [
        "<p> La variable \"Manganeso\" tiene un promedio de 0.091, con una gran variabilidad (desviación estándar de 0.432). La mayoría de los valores son muy pequeños, con un mínimo de 1.38e-46, pero hay algunos valores altos, como 15.26, lo que sugiere la presencia de valores extremos.\n",
        "<br>\n",
        "Aplicaré el logaritmo natural para reducir la variabilidad y hacer la distribución más estable, facilitando el análisis.\n",
        "</p>"
      ]
    },
    {
      "cell_type": "code",
      "execution_count": null,
      "id": "5511a981-ecbe-4277-a60e-5807cad51ade",
      "metadata": {
        "id": "5511a981-ecbe-4277-a60e-5807cad51ade"
      },
      "outputs": [],
      "source": [
        "df['Manganeso'] = df['Manganeso'] + 1e-10  # evitar log(0)\n",
        "# Aplicar el logaritmo natural\n",
        "df['Manganeso'] = np.log(df['Manganeso'])"
      ]
    },
    {
      "cell_type": "code",
      "execution_count": null,
      "id": "e2a1f704-388d-48da-b21b-b9a13e17963c",
      "metadata": {
        "id": "e2a1f704-388d-48da-b21b-b9a13e17963c"
      },
      "outputs": [],
      "source": [
        "# Eliminamos los Outliers:\n",
        "col_p = 'Manganeso'\n",
        "q1p = df[col_p].quantile(0.25)\n",
        "q3p = df[col_p].quantile(0.75)\n",
        "iqrp = q3p - q1p\n",
        "df = df[(df[col_p] >= q1p - 1.5 * iqrp) & (df[col_p] <= q3p + 1.5 * iqrp)]\n",
        "print(df[col_p].describe())"
      ]
    },
    {
      "cell_type": "code",
      "execution_count": null,
      "id": "76c07fdc-4912-44c3-995c-3757b841968c",
      "metadata": {
        "id": "76c07fdc-4912-44c3-995c-3757b841968c"
      },
      "outputs": [],
      "source": [
        "# Visualización con histograma\n",
        "plt.figure(figsize=(8, 6))\n",
        "sns.histplot(df['Manganeso'], kde=True, bins=50)\n",
        "plt.title('Distribución de Manganeso después de aplicar Logaritmo Natural')\n",
        "plt.xlabel('Valor de Manganeso (log)')\n",
        "plt.ylabel('Frecuencia')\n",
        "plt.show()"
      ]
    },
    {
      "cell_type": "markdown",
      "id": "7899ec6d-ada6-4955-921d-350c8cde72c7",
      "metadata": {
        "id": "7899ec6d-ada6-4955-921d-350c8cde72c7"
      },
      "source": [
        "<p> El Manganeso original tenía muchos valores muy pequeños. Después del logaritmo, la distribución ahora tiene dos picos: uno para los valores originales casi cero y otro para valores un poco más grandes. No se volvió normal, sino que muestra dos grupos distintos. Hay una gran cantidad de muestras con niveles de Manganeso casi indetectables, y otro grupo (más pequeño) con niveles de Manganeso que son significativamente mayores que cero </p>"
      ]
    },
    {
      "cell_type": "markdown",
      "id": "fb1695d0-6418-48a2-b0d4-931bb2534eec",
      "metadata": {
        "id": "fb1695d0-6418-48a2-b0d4-931bb2534eec"
      },
      "source": [
        "<b style='font-size:22px'> Análisis de la columna: Turbidez </b>"
      ]
    },
    {
      "cell_type": "code",
      "execution_count": null,
      "id": "b12b3e90-8e9d-4336-b115-a4f6cced0f9e",
      "metadata": {
        "id": "b12b3e90-8e9d-4336-b115-a4f6cced0f9e"
      },
      "outputs": [],
      "source": [
        "df['Turbidez'].describe()"
      ]
    },
    {
      "cell_type": "markdown",
      "id": "aebbd18c-df6c-48da-9a25-9387ebc9cdee",
      "metadata": {
        "id": "aebbd18c-df6c-48da-9a25-9387ebc9cdee"
      },
      "source": [
        "<p>La variable Turbidez muestra una distribución sesgada, con valores mayoritariamente bajos y algunos extremos altos (mínimo: 9.18e-14, máximo: 19.29). Se aplica una transformación logarítmica para reducir la asimetría, facilitar su análisis y representar mejor su comportamiento en el modelo.:</p>"
      ]
    },
    {
      "cell_type": "code",
      "execution_count": null,
      "id": "91f3a595-f375-4a6c-8cdc-52521e594fb2",
      "metadata": {
        "id": "91f3a595-f375-4a6c-8cdc-52521e594fb2"
      },
      "outputs": [],
      "source": [
        "df['Turbidez'] = df['Turbidez'] + 1e-10  # evitar log(0)\n",
        "# Aplicamos el logaritmo natural\n",
        "df['Turbidez'] = np.log(df['Turbidez'])"
      ]
    },
    {
      "cell_type": "code",
      "execution_count": null,
      "id": "4cf78a87-7811-4939-9de3-d4a1a019150d",
      "metadata": {
        "id": "4cf78a87-7811-4939-9de3-d4a1a019150d"
      },
      "outputs": [],
      "source": [
        "#Eliminamos los Outliers:\n",
        "col_p = 'Turbidez'\n",
        "q1p = df[col_p].quantile(0.25)\n",
        "q3p = df[col_p].quantile(0.75)\n",
        "iqrp = q3p - q1p\n",
        "df = df[(df[col_p] >= q1p - 1.5 * iqrp) & (df[col_p] <= q3p + 1.5 * iqrp)]\n",
        "print(df[col_p].describe())"
      ]
    },
    {
      "cell_type": "code",
      "execution_count": null,
      "id": "08e0b564-fbd1-433d-955e-8947e7283de5",
      "metadata": {
        "id": "08e0b564-fbd1-433d-955e-8947e7283de5"
      },
      "outputs": [],
      "source": [
        "# Visualización con histograma y KDE\n",
        "plt.figure(figsize=(8, 6))\n",
        "sns.histplot(df['Turbidez'], kde=True, bins=50)\n",
        "plt.title('Distribución de Turbidez después de aplicar Logaritmo Natural')\n",
        "plt.xlabel('Valor de Turbidez (log)')\n",
        "plt.ylabel('Frecuencia')\n",
        "plt.show()"
      ]
    },
    {
      "cell_type": "markdown",
      "id": "a32a1dcc-0a3e-43dd-a65f-c429b12d0ace",
      "metadata": {
        "id": "a32a1dcc-0a3e-43dd-a65f-c429b12d0ace"
      },
      "source": [
        "<p>La transformación logarítmica de la columna 'Turbidez' ha comprimido el rango de valores y reducido la fuerte asimetría positiva original, concentrando la mayoría de las observaciones en valores logarítmicos bajos. Sin embargo, la distribución sigue mostrando una alta frecuencia en valores transformados cercanos a cero, indicando que la mayoría de las lecturas originales de turbidez eran muy bajas, con una cola que se extiende hacia valores logarítmicos más altos correspondientes a los picos de turbidez.</p>"
      ]
    },
    {
      "cell_type": "markdown",
      "id": "756dfe02-65bf-4e3d-8ec0-1e427464d469",
      "metadata": {
        "id": "756dfe02-65bf-4e3d-8ec0-1e427464d469"
      },
      "source": [
        "<b style='font-size:22px'> Análisis de la columna: Cobre </b>"
      ]
    },
    {
      "cell_type": "code",
      "execution_count": null,
      "id": "bd7d9136-58b6-4569-a8bc-adc29c3b6104",
      "metadata": {
        "id": "bd7d9136-58b6-4569-a8bc-adc29c3b6104"
      },
      "outputs": [],
      "source": [
        "df['Cobre'].describe()"
      ]
    },
    {
      "cell_type": "markdown",
      "id": "2effc917-9994-432a-9d32-a3bf135bc4f5",
      "metadata": {
        "id": "2effc917-9994-432a-9d32-a3bf135bc4f5"
      },
      "source": [
        "<p>La variable Cobre muestra una distribución sesgada, con valores mayoritariamente bajos y algunos extremos altos (mínimo: 5.41e-08, máximo: 11.39). Se aplica una transformación logarítmica para reducir la asimetría, facilitar su análisis y representar mejor su comportamiento en el modelo.</p>"
      ]
    },
    {
      "cell_type": "code",
      "execution_count": null,
      "id": "7337c1f6-a5c0-423f-80e3-da1c7e236c31",
      "metadata": {
        "id": "7337c1f6-a5c0-423f-80e3-da1c7e236c31"
      },
      "outputs": [],
      "source": [
        "df['Cobre'] = df['Cobre'] + 1e-10  # evitar log(0)\n",
        "\n",
        "# Aplicamos el logaritmo natural\n",
        "df['Cobre'] = np.log(df['Cobre'])\n",
        "print(df['Cobre'].describe())"
      ]
    },
    {
      "cell_type": "code",
      "execution_count": null,
      "id": "8b544af0-8887-4770-8efe-aba48c91fce6",
      "metadata": {
        "id": "8b544af0-8887-4770-8efe-aba48c91fce6"
      },
      "outputs": [],
      "source": [
        "#Eliminamos los Outliers:\n",
        "col_p = 'Cobre'\n",
        "q1p = df[col_p].quantile(0.25)\n",
        "q3p = df[col_p].quantile(0.75)\n",
        "iqrp = q3p - q1p\n",
        "df = df[(df[col_p] >= q1p - 1.5 * iqrp) & (df[col_p] <= q3p + 1.5 * iqrp)]\n",
        "print(df[col_p].describe())"
      ]
    },
    {
      "cell_type": "code",
      "execution_count": null,
      "id": "8bc9825f-44f0-48de-978d-d5bb7259168b",
      "metadata": {
        "id": "8bc9825f-44f0-48de-978d-d5bb7259168b"
      },
      "outputs": [],
      "source": [
        "# Visualización con histograma\n",
        "plt.figure(figsize=(8, 6))\n",
        "sns.histplot(df['Cobre'], kde=True, bins=50)\n",
        "plt.title('Distribución de Cobre después de aplicar Logaritmo Natural')\n",
        "plt.xlabel('Valor de Cobre (log)')\n",
        "plt.ylabel('Frecuencia')\n",
        "plt.show()"
      ]
    },
    {
      "cell_type": "markdown",
      "id": "9ddd7125-89e1-404d-a11f-71bd46704a44",
      "metadata": {
        "id": "9ddd7125-89e1-404d-a11f-71bd46704a44"
      },
      "source": [
        "<p>El gráfico resultante muestra cómo la transformación logarítmica mejora la simetría de la distribución de los datos de Cobre, acercándola a una distribuición más normal. </p>"
      ]
    },
    {
      "cell_type": "markdown",
      "id": "3698ffec-0595-4ec3-bf4c-5e87659bd772",
      "metadata": {
        "id": "3698ffec-0595-4ec3-bf4c-5e87659bd772"
      },
      "source": [
        "<b style=\"font-size:22px\">Análisis de columnas: Fluoruro, Olor, Sulfatos:</b>"
      ]
    },
    {
      "cell_type": "code",
      "execution_count": null,
      "id": "02bd2403-d2d0-457d-8d93-778151675715",
      "metadata": {
        "id": "02bd2403-d2d0-457d-8d93-778151675715"
      },
      "outputs": [],
      "source": [
        "columnas = ['Fluoruro','Olor','Sulfatos']"
      ]
    },
    {
      "cell_type": "code",
      "execution_count": null,
      "id": "2a4aec1e-9505-47f9-b9a5-0e4f8f21cd81",
      "metadata": {
        "id": "2a4aec1e-9505-47f9-b9a5-0e4f8f21cd81"
      },
      "outputs": [],
      "source": [
        "df[columnas].describe()"
      ]
    },
    {
      "cell_type": "code",
      "execution_count": null,
      "id": "3e02206e-39f9-4eef-bdf4-63df24ab6037",
      "metadata": {
        "id": "3e02206e-39f9-4eef-bdf4-63df24ab6037"
      },
      "outputs": [],
      "source": [
        "# Grafico las columnas:'Fluoruro','Olor','Sulfatos':\n",
        "fig, axes = plt.subplots(1, len(columnas), figsize=(5 * len(columnas), 4))\n",
        "\n",
        "for i, col in enumerate(columnas):\n",
        "    sns.histplot(df[col], kde=True, ax=axes[i], color='skyblue')\n",
        "    axes[i].set_title(f'Distribución de {col}')\n",
        "    axes[i].set_xlabel(col)\n",
        "    axes[i].set_ylabel('Frecuencia')\n",
        "\n",
        "plt.tight_layout()\n",
        "plt.show()"
      ]
    },
    {
      "cell_type": "code",
      "execution_count": null,
      "id": "899f903c-6f55-4ebb-a892-dbf1e6ac2f98",
      "metadata": {
        "id": "899f903c-6f55-4ebb-a892-dbf1e6ac2f98"
      },
      "outputs": [],
      "source": [
        "# Aplicamos IQR a las columnas a análizar:\n",
        "cols = ['Fluoruro','Olor','Sulfatos']\n",
        "for col in cols:\n",
        "    Q1 = df[col].quantile(0.25)\n",
        "    Q3 = df[col].quantile(0.75)\n",
        "    IQR = Q3 - Q1\n",
        "    df = df[(df[col] >= Q1 - 1.5 * IQR) & (df[col] <= Q3 + 1.5 * IQR)]\n",
        "    df[cols].describe()"
      ]
    },
    {
      "cell_type": "code",
      "execution_count": null,
      "id": "d7aaf85d-458e-4ae0-8aa2-fb5720223d08",
      "metadata": {
        "id": "d7aaf85d-458e-4ae0-8aa2-fb5720223d08"
      },
      "outputs": [],
      "source": [
        "# Grafico de las columnas:'Fluoruro','Olor','Sulfatos':\n",
        "fig, axes = plt.subplots(1, len(columnas), figsize=(5 * len(columnas), 4))\n",
        "\n",
        "for i, col in enumerate(columnas):\n",
        "    sns.histplot(df[col], kde=True, ax=axes[i], color='skyblue')\n",
        "    axes[i].set_title(f'Distribución de {col}')\n",
        "    axes[i].set_xlabel(col)\n",
        "    axes[i].set_ylabel('Frecuencia')\n",
        "\n",
        "plt.tight_layout()\n",
        "plt.show()"
      ]
    },
    {
      "cell_type": "code",
      "execution_count": null,
      "id": "1ce62894-f208-4130-8e51-4165bc79614c",
      "metadata": {
        "id": "1ce62894-f208-4130-8e51-4165bc79614c"
      },
      "outputs": [],
      "source": [
        "df.isna().sum()"
      ]
    },
    {
      "cell_type": "markdown",
      "id": "035cd984-e8fb-413a-be22-aaad4bfb8c54",
      "metadata": {
        "id": "035cd984-e8fb-413a-be22-aaad4bfb8c54"
      },
      "source": [
        "<b style=\"font-size:22px\">Análisis de columnas: Conductividad, Cloro residual libre, Sólidos disueltos totales:</b>"
      ]
    },
    {
      "cell_type": "code",
      "execution_count": null,
      "id": "867358bb-451d-4877-828c-550d8e1eb09a",
      "metadata": {
        "id": "867358bb-451d-4877-828c-550d8e1eb09a"
      },
      "outputs": [],
      "source": [
        "columnas2 = ['Conductividad','Cloro residual libre','Sólidos disueltos totales']"
      ]
    },
    {
      "cell_type": "code",
      "execution_count": null,
      "id": "7be774aa-2ed4-4bdf-aafe-2f098478adaa",
      "metadata": {
        "id": "7be774aa-2ed4-4bdf-aafe-2f098478adaa"
      },
      "outputs": [],
      "source": [
        "df[columnas2].describe()"
      ]
    },
    {
      "cell_type": "code",
      "execution_count": null,
      "id": "1776855b-9481-4dd0-9f38-47295ec3df84",
      "metadata": {
        "id": "1776855b-9481-4dd0-9f38-47295ec3df84"
      },
      "outputs": [],
      "source": [
        "#IQR\n",
        "cols2 = ['Conductividad', 'Cloro residual libre', 'Sólidos disueltos totales']\n",
        "for col in cols2:\n",
        "    Q1 = df[col].quantile(0.25)\n",
        "    Q3 = df[col].quantile(0.75)\n",
        "    IQR = Q3 - Q1\n",
        "    df = df[(df[col] >= Q1 - 1.5 * IQR) & (df[col] <= Q3 + 1.5 * IQR)]"
      ]
    },
    {
      "cell_type": "code",
      "execution_count": null,
      "id": "80ece8a8-824e-4b6f-ba70-f5efebede46f",
      "metadata": {
        "id": "80ece8a8-824e-4b6f-ba70-f5efebede46f"
      },
      "outputs": [],
      "source": [
        "#Gráficamos las columnas: 'Conductividad','Cloro residual libre','Sólidos disueltos totales'\n",
        "fig, axes = plt.subplots(1, len(columnas2), figsize=(5 * len(columnas), 4))\n",
        "\n",
        "for i, col in enumerate(columnas2):\n",
        "    sns.histplot(df[col], kde=True, ax=axes[i], color='skyblue')\n",
        "    axes[i].set_title(f'Distribución de {col}')\n",
        "    axes[i].set_xlabel(col)\n",
        "    axes[i].set_ylabel('Frecuencia')\n",
        "\n",
        "plt.tight_layout()\n",
        "plt.show()"
      ]
    },
    {
      "cell_type": "markdown",
      "id": "7d681bd6-2db0-4b2a-bd72-a78e7d12d4d2",
      "metadata": {
        "id": "7d681bd6-2db0-4b2a-bd72-a78e7d12d4d2"
      },
      "source": [
        "<b style=\"font-size:22px\">Análisis de columna: Temperatura del agua</b>"
      ]
    },
    {
      "cell_type": "code",
      "execution_count": null,
      "id": "b91c0314-a17c-4845-8db8-9e051d5a5eb0",
      "metadata": {
        "id": "b91c0314-a17c-4845-8db8-9e051d5a5eb0"
      },
      "outputs": [],
      "source": [
        "# Observamos la distribuición de la columna Temp. del Agua:\n",
        "plt.figure(figsize=(10, 6))\n",
        "sns.histplot(df['Temperatura del agua'], kde=True)\n",
        "plt.title('Temperatura del agua')\n",
        "plt.xlabel('Valor')\n",
        "plt.ylabel('Frecuencia')\n",
        "plt.show()"
      ]
    },
    {
      "cell_type": "code",
      "execution_count": null,
      "id": "5f77d083-7095-494f-ba5e-990fe150f665",
      "metadata": {
        "id": "5f77d083-7095-494f-ba5e-990fe150f665"
      },
      "outputs": [],
      "source": [
        "df['Temperatura del agua'].describe()"
      ]
    },
    {
      "cell_type": "code",
      "execution_count": null,
      "id": "eee45480-0ff1-4f0a-b4ef-da802b2c5e97",
      "metadata": {
        "id": "eee45480-0ff1-4f0a-b4ef-da802b2c5e97"
      },
      "outputs": [],
      "source": [
        "#Eliminamos los Outliers:\n",
        "\n",
        "col9 = 'Temperatura del agua'  # ejemplo\n",
        "Q1 = df[col9].quantile(0.25)\n",
        "Q3 = df[col9].quantile(0.75)\n",
        "IQR = Q3 - Q1\n",
        "df = df[(df[col9] >= Q1 - 1.5 * IQR) & (df[col9] <= Q3 + 1.5 * IQR)]\n",
        "df['Temperatura del agua'].isna().sum() #Analizo si hay valor nulos, me da 0.\n",
        "df['Temperatura del agua'].describe()"
      ]
    },
    {
      "cell_type": "code",
      "execution_count": null,
      "id": "ca06655a-a922-4f1f-9db8-d1cc41cf47c9",
      "metadata": {
        "id": "ca06655a-a922-4f1f-9db8-d1cc41cf47c9"
      },
      "outputs": [],
      "source": [
        "# Volvemos a graficar\n",
        "plt.figure()\n",
        "sns.histplot(df['Temperatura del agua'], kde=True)\n",
        "plt.title('Temperatura del agua')\n",
        "plt.xlabel('Valor')\n",
        "plt.ylabel('Frecuencia')\n",
        "plt.show()"
      ]
    },
    {
      "cell_type": "markdown",
      "id": "0b8d76ed-6ad8-4db1-9d6b-adc692e51a6b",
      "metadata": {
        "id": "0b8d76ed-6ad8-4db1-9d6b-adc692e51a6b"
      },
      "source": [
        "<p>Después de eliminar los valores nulos y los outliers, los datos de las temperaturas muestran una reducción en la cantidad de registros, con una disminución tanto en la media como en la desviación estándar. La temperatura del agua experimentó una baja en la media, pasando de 19.13 a 17.58, lo que indica que los valores extremos estaban influyendo en el promedio. También se observó una notable reducción en el valor máximo, que bajó de 210.82 a 42.51, reflejando la eliminación de outliers muy altos.</p>"
      ]
    },
    {
      "cell_type": "markdown",
      "id": "76dcd4ee-ee1e-4ace-958f-72153f9c7b70",
      "metadata": {
        "id": "76dcd4ee-ee1e-4ace-958f-72153f9c7b70"
      },
      "source": [
        "<b style=\"font-size:22px\">Análisis de columna: Temperatura del aire</b>"
      ]
    },
    {
      "cell_type": "code",
      "execution_count": null,
      "id": "1a09e272-16b1-425c-9b18-9c419916d2a6",
      "metadata": {
        "id": "1a09e272-16b1-425c-9b18-9c419916d2a6"
      },
      "outputs": [],
      "source": [
        "# Observamos la distribuición de la columna Temp. del Aire:\n",
        "plt.figure(figsize=(10, 6))\n",
        "sns.histplot(df['Temperatura del aire'], kde=True)\n",
        "plt.title('Temperatura del aire')\n",
        "plt.xlabel('Valor')\n",
        "plt.ylabel('Frecuencia')\n",
        "plt.show()"
      ]
    },
    {
      "cell_type": "code",
      "execution_count": null,
      "id": "d968aceb-605b-4263-a8ea-ddb999bbda06",
      "metadata": {
        "id": "d968aceb-605b-4263-a8ea-ddb999bbda06"
      },
      "outputs": [],
      "source": [
        "df['Temperatura del aire'].describe()"
      ]
    },
    {
      "cell_type": "code",
      "execution_count": null,
      "id": "07ace58c-d11f-4f32-ae9a-8f6dfb07bd21",
      "metadata": {
        "id": "07ace58c-d11f-4f32-ae9a-8f6dfb07bd21"
      },
      "outputs": [],
      "source": [
        "#Eliminamos los Outliers:\n",
        "\n",
        "col10 = 'Temperatura del aire'  # ejemplo\n",
        "Q1 = df[col10].quantile(0.25)\n",
        "Q3 = df[col10].quantile(0.75)\n",
        "IQR = Q3 - Q1\n",
        "df = df[(df[col10] >= Q1 - 1.5 * IQR) & (df[col10] <= Q3 + 1.5 * IQR)]\n",
        "df['Temperatura del aire'].isna().sum() #Analizo si hay valor nulos, me da 0.\n",
        "df['Temperatura del aire'].describe()"
      ]
    },
    {
      "cell_type": "code",
      "execution_count": null,
      "id": "04f56523-dbd1-43dc-a1bc-d4827427f241",
      "metadata": {
        "id": "04f56523-dbd1-43dc-a1bc-d4827427f241"
      },
      "outputs": [],
      "source": [
        "# Volvemos a graficar\n",
        "plt.figure()\n",
        "sns.histplot(df['Temperatura del aire'], kde=True)\n",
        "plt.title('Temperatura del aire')\n",
        "plt.xlabel('Valor')\n",
        "plt.ylabel('Frecuencia')\n",
        "plt.show()"
      ]
    },
    {
      "cell_type": "code",
      "execution_count": null,
      "id": "66621d39-0857-4873-a397-ee02bafec687",
      "metadata": {
        "id": "66621d39-0857-4873-a397-ee02bafec687"
      },
      "outputs": [],
      "source": [
        "df.isna().sum()"
      ]
    },
    {
      "cell_type": "markdown",
      "id": "deafeeb3-0068-4452-afca-ef8e74afdcbb",
      "metadata": {
        "id": "deafeeb3-0068-4452-afca-ef8e74afdcbb"
      },
      "source": [
        "<p>En cuanto a la temperatura del aire, la media prácticamente se mantuvo igual, pero el máximo también disminuyó de 140.88 a 108.70, sugiriendo que los valores extremos fueron eliminados.</p>"
      ]
    },
    {
      "cell_type": "markdown",
      "id": "4fba98de-4273-4b4b-9f12-88b72d490187",
      "metadata": {
        "id": "4fba98de-4273-4b4b-9f12-88b72d490187"
      },
      "source": [
        "<h1>Sección categorica:</h1>"
      ]
    },
    {
      "cell_type": "markdown",
      "id": "9ddd1748-7968-43f4-989f-a4324530d9b1",
      "metadata": {
        "id": "9ddd1748-7968-43f4-989f-a4324530d9b1"
      },
      "source": [
        "<b style=\"font-size:22px\">Análisis de columna: Meses</b>"
      ]
    },
    {
      "cell_type": "code",
      "execution_count": null,
      "id": "f2c204ef-114e-4bc2-82dd-d83496659561",
      "metadata": {
        "id": "f2c204ef-114e-4bc2-82dd-d83496659561"
      },
      "outputs": [],
      "source": [
        "print(df['Mes'].unique())\n",
        "total_meses = df['Mes'].count()\n",
        "print(\"Total de registros con Mes válido:\", total_meses)"
      ]
    },
    {
      "cell_type": "code",
      "execution_count": null,
      "id": "ed66126c-33f3-49f7-9bce-fdad35ae1f62",
      "metadata": {
        "id": "ed66126c-33f3-49f7-9bce-fdad35ae1f62"
      },
      "outputs": [],
      "source": [
        "# Elimino los valores nulos\n",
        "df = df[df['Mes'].notna()]\n",
        "# Ordeno los meses\n",
        "orden_meses = ['January', 'February', 'March', 'April', 'May', 'June',\n",
        "               'July', 'August', 'September', 'October', 'November', 'December']"
      ]
    },
    {
      "cell_type": "code",
      "execution_count": null,
      "id": "4c2186a1-654c-4273-8e8d-0e837eac0fa1",
      "metadata": {
        "id": "4c2186a1-654c-4273-8e8d-0e837eac0fa1"
      },
      "outputs": [],
      "source": [
        "conteo_meses = df['Mes'].value_counts().reindex(orden_meses)\n",
        "plt.figure(figsize=(10,5))\n",
        "sns.barplot(x=conteo_meses.index, y=conteo_meses.values, palette=\"viridis\")\n",
        "plt.title(\"Distribución por Mes\")\n",
        "plt.xlabel(\"Mes\")\n",
        "plt.ylabel(\"Frecuencia\")\n",
        "plt.xticks(rotation=45)\n",
        "plt.tight_layout()\n",
        "plt.show()"
      ]
    },
    {
      "cell_type": "markdown",
      "id": "b7295430-03da-429d-889e-71c62cbd909d",
      "metadata": {
        "id": "b7295430-03da-429d-889e-71c62cbd909d"
      },
      "source": [
        "<p>Convertimos las variables categóricas en formato numérico para poder usarlas en modelos. (Encoding) Se aplica Label Encoding con orden cronológico ya que este es útil para conservar el orden de los meses y usarlo en modelos que consideren relaciones ordinales</p>"
      ]
    },
    {
      "cell_type": "code",
      "execution_count": null,
      "id": "9b3613dd-8b0a-4c3f-ac9c-81db4fa754b9",
      "metadata": {
        "id": "9b3613dd-8b0a-4c3f-ac9c-81db4fa754b9"
      },
      "outputs": [],
      "source": [
        "#Este código toma la columna categórica 'Mes', define un orden específico para los meses y luego crea una nueva columna numérica\n",
        "#'Mes_encoded' que representa los meses con números basados en ese orden. Esto prepara los datos para su uso en modelos de aprendizaje\n",
        "# automático que requieren entrada numérica.\n",
        "\n",
        "df['Mes'] = pd.Categorical(df['Mes'], categories=orden_meses, ordered=True)\n",
        "df['Mes_encoded'] = df['Mes'].cat.codes\n",
        "\n",
        "df[['Mes', 'Mes_encoded']].head()"
      ]
    },
    {
      "cell_type": "markdown",
      "id": "ba94c4d1-727c-4abd-81a6-bda2afd74614",
      "metadata": {
        "id": "ba94c4d1-727c-4abd-81a6-bda2afd74614"
      },
      "source": [
        "<b style=\"font-size:22px\">Análisis de columna: Color</b>"
      ]
    },
    {
      "cell_type": "markdown",
      "id": "2ea83717-55f3-45f9-9997-6064eace6a1b",
      "metadata": {
        "id": "2ea83717-55f3-45f9-9997-6064eace6a1b"
      },
      "source": [
        "<p>La variable Color representa la apariencia visual del agua y puede estar relacionada con la presencia de contaminantes orgánicos o inorgánicos. Dado que estas categorías tienen una progresión lógica (desde \"Colorless\" hasta \"Yellow\"), se convierte a una variable categórica ordinal con el siguiente orden:\n",
        "\n",
        "'Colorless' < 'Near Colorless' < 'Faint Yellow' < 'Light Yellow' < 'Yellow'. Este orden refleja un aumento en la intensidad del color, útil para modelos que aprovechan relaciones ordinales.</p>"
      ]
    },
    {
      "cell_type": "code",
      "execution_count": null,
      "id": "8e8df06c-3cb9-4a2e-95ce-abb4e42f4ae7",
      "metadata": {
        "id": "8e8df06c-3cb9-4a2e-95ce-abb4e42f4ae7"
      },
      "outputs": [],
      "source": [
        "print(df['Color'].unique())\n",
        "total_meses = df['Color'].count()\n",
        "print(\"Total de registros con Mes válido:\", total_meses)"
      ]
    },
    {
      "cell_type": "code",
      "execution_count": null,
      "id": "8d481128-a62b-4413-bb9f-27e3df5d87a9",
      "metadata": {
        "id": "8d481128-a62b-4413-bb9f-27e3df5d87a9"
      },
      "outputs": [],
      "source": [
        "# Elimino los valores nulos\n",
        "df = df[df['Color'].notna()]\n",
        "# Este orden sigue la escala estándar de color del agua tipo Pt-Co (Platinum-Cobalt), donde un número bajo indica agua más clara.\n",
        "orden_color = ['Colorless', 'Near Colorless', 'Faint Yellow', 'Light Yellow', 'Yellow']"
      ]
    },
    {
      "cell_type": "code",
      "execution_count": null,
      "id": "91f2f123-d6b4-4418-904e-b15ac090c015",
      "metadata": {
        "id": "91f2f123-d6b4-4418-904e-b15ac090c015"
      },
      "outputs": [],
      "source": [
        "conteo_color = df['Color'].value_counts().reindex(orden_color)\n",
        "plt.figure(figsize=(10,5))\n",
        "sns.barplot(x=conteo_color.index, y=conteo_color.values, palette=\"viridis\")\n",
        "plt.title(\"Distribución por Color\")\n",
        "plt.xlabel(\"Color\")\n",
        "plt.ylabel(\"Frecuencia\")\n",
        "plt.xticks(rotation=45)\n",
        "plt.tight_layout()\n",
        "plt.show()"
      ]
    },
    {
      "cell_type": "markdown",
      "id": "ba9fb87e-c6c0-4824-af6b-f1bbccb5c78a",
      "metadata": {
        "id": "ba9fb87e-c6c0-4824-af6b-f1bbccb5c78a"
      },
      "source": [
        "<p>Convertimos las variables categóricas en formato numérico para poder usarlas en modelos. (Encoding) Se aplica Label Encoding con orden cronológico ya que este es útil para conservar el orden de los meses y usarlo en modelos que consideren relaciones ordinales </p>"
      ]
    },
    {
      "cell_type": "code",
      "execution_count": null,
      "id": "e85afb73-5f1a-486a-9d48-1fff3b873635",
      "metadata": {
        "id": "e85afb73-5f1a-486a-9d48-1fff3b873635"
      },
      "outputs": [],
      "source": [
        "# Este código convierte la columna categórica 'Color' en una variable ordinal,\n",
        "# definiendo un orden lógico basado en la intensidad del color del agua,\n",
        "# desde 'Colorless' (agua más clara) hasta 'Yellow' (más intensa).\n",
        "# Luego, se crea una nueva columna 'Color_encoded' con valores numéricos (0 a 4)\n",
        "# que permiten utilizar esta variable en modelos de aprendizaje automático que requieren datos numéricos.\n",
        "df['Color'] = pd.Categorical(df['Color'], categories=orden_color, ordered=True)\n",
        "df['Color_encoded'] = df['Color'].cat.codes\n",
        "\n",
        "df[['Color', 'Color_encoded']].head()"
      ]
    },
    {
      "cell_type": "markdown",
      "id": "e274dd93-3e84-492a-afc8-2d16bd378309",
      "metadata": {
        "id": "e274dd93-3e84-492a-afc8-2d16bd378309"
      },
      "source": [
        "<b style=\"font-size:22px\">Análisis de columna: Fuente</b>"
      ]
    },
    {
      "cell_type": "code",
      "execution_count": null,
      "id": "7af87952-4f4e-4588-84a8-777cb163236e",
      "metadata": {
        "id": "7af87952-4f4e-4588-84a8-777cb163236e"
      },
      "outputs": [],
      "source": [
        "print(df['Fuente'].unique())\n",
        "total_fuentes = df['Fuente'].count()\n",
        "print(\"Total de registros con Fuente son:\", total_fuentes)"
      ]
    },
    {
      "cell_type": "code",
      "execution_count": null,
      "id": "4071eafa-1c05-48f1-987c-2f44d2810025",
      "metadata": {
        "id": "4071eafa-1c05-48f1-987c-2f44d2810025"
      },
      "outputs": [],
      "source": [
        "# Elimino los valores nulos\n",
        "df = df[df['Fuente'].notna()]"
      ]
    },
    {
      "cell_type": "code",
      "execution_count": null,
      "id": "1d8c2191-c1d0-4121-b415-1887f2856020",
      "metadata": {
        "id": "1d8c2191-c1d0-4121-b415-1887f2856020"
      },
      "outputs": [],
      "source": [
        "conteo_fuentes = df['Fuente'].value_counts()\n",
        "plt.figure(figsize=(10,5))\n",
        "sns.barplot(x=conteo_fuentes.index, y=conteo_fuentes.values, palette=\"viridis\")\n",
        "plt.title(\"Distribución por Fuentes\")\n",
        "plt.xlabel(\"Fuente\")\n",
        "plt.ylabel(\"Frecuencia\")\n",
        "plt.xticks(rotation=45)\n",
        "plt.tight_layout()\n",
        "plt.show()"
      ]
    },
    {
      "cell_type": "code",
      "execution_count": null,
      "id": "e78ea16f-ce64-4579-b95b-2530cde1e35a",
      "metadata": {
        "id": "e78ea16f-ce64-4579-b95b-2530cde1e35a"
      },
      "outputs": [],
      "source": [
        "# En el gráfico se visualizan casi iguales, confirmo con esto\n",
        "conteo_fuentes = df['Fuente'].value_counts()\n",
        "print(conteo_fuentes)\n",
        "# Hay diferencias entre estos por lo tanto mantengo las Fuentes"
      ]
    },
    {
      "cell_type": "code",
      "execution_count": null,
      "id": "bc44c1a4-3744-4077-997a-6b6aa66f746d",
      "metadata": {
        "id": "bc44c1a4-3744-4077-997a-6b6aa66f746d"
      },
      "outputs": [],
      "source": [
        "# La variable 'Fuente' representa la procedencia del agua (ej. río, pozo, lago, etc.).\n",
        "# Dado que estas categorías no tienen un orden lógico intrínseco, se consideran variables categóricas nominales.\n",
        "# Para su uso en modelos de machine learning, se recomienda aplicar One-Hot Encoding.\n",
        "df_fuente_encoded = pd.get_dummies(df['Fuente'], prefix='Fuente')\n",
        "df = pd.concat([df, df_fuente_encoded], axis=1)"
      ]
    },
    {
      "cell_type": "code",
      "execution_count": null,
      "id": "aa476197-607a-4428-b1df-14e7cfc27fa9",
      "metadata": {
        "id": "aa476197-607a-4428-b1df-14e7cfc27fa9"
      },
      "outputs": [],
      "source": [
        "# Veo si estan todas las columnas\n",
        "print(df.columns[df.columns.str.startswith('Fuente_')])"
      ]
    },
    {
      "cell_type": "code",
      "execution_count": null,
      "id": "30c1e01f-8f52-4057-85d9-bd1f6a76f348",
      "metadata": {
        "id": "30c1e01f-8f52-4057-85d9-bd1f6a76f348"
      },
      "outputs": [],
      "source": [
        "# Verifico que el encoding esté bien hecho : Coincide con el valor original de Fuente.\n",
        "df[['Fuente', 'Fuente_Reservoir', 'Fuente_Spring', 'Fuente_River', 'Fuente_Stream',\n",
        "    'Fuente_Aquifer', 'Fuente_Lake', 'Fuente_Ground', 'Fuente_Well']].head(10)"
      ]
    },
    {
      "cell_type": "code",
      "execution_count": null,
      "id": "edbe1e91-d691-4771-9f6b-ce5759a69e68",
      "metadata": {
        "id": "edbe1e91-d691-4771-9f6b-ce5759a69e68"
      },
      "outputs": [],
      "source": [
        "# Chequeo la suma total : da OK al original\n",
        "print(df[['Fuente_Reservoir', 'Fuente_Spring', 'Fuente_River', 'Fuente_Stream',\n",
        "          'Fuente_Aquifer', 'Fuente_Lake', 'Fuente_Ground', 'Fuente_Well']].sum())"
      ]
    },
    {
      "cell_type": "code",
      "execution_count": null,
      "id": "aa92738b-9e89-474c-87cc-1b9a935bf9fd",
      "metadata": {
        "id": "aa92738b-9e89-474c-87cc-1b9a935bf9fd"
      },
      "outputs": [],
      "source": [
        "df.columns"
      ]
    },
    {
      "cell_type": "code",
      "execution_count": null,
      "id": "aa0dce4a-39a7-480c-b79d-7470ff9a976c",
      "metadata": {
        "id": "aa0dce4a-39a7-480c-b79d-7470ff9a976c"
      },
      "outputs": [],
      "source": [
        "# Elimino las columnas que no son relevantes para el objetivo del modelo: 'Hora del día', 'Día'"
      ]
    },
    {
      "cell_type": "code",
      "execution_count": null,
      "id": "f98579c3-63d1-4351-9ed6-0c8ee5aeeb4c",
      "metadata": {
        "id": "f98579c3-63d1-4351-9ed6-0c8ee5aeeb4c"
      },
      "outputs": [],
      "source": [
        "df = df.drop(columns=['Día', 'Hora del día'])"
      ]
    },
    {
      "cell_type": "code",
      "execution_count": null,
      "id": "20f30cfd-a4fa-4cf2-92e4-a4781ad88b9e",
      "metadata": {
        "id": "20f30cfd-a4fa-4cf2-92e4-a4781ad88b9e"
      },
      "outputs": [],
      "source": [
        "df.columns"
      ]
    },
    {
      "cell_type": "code",
      "execution_count": null,
      "id": "73f2c59a-e0ff-4d11-97c0-9982340cac51",
      "metadata": {
        "id": "73f2c59a-e0ff-4d11-97c0-9982340cac51"
      },
      "outputs": [],
      "source": [
        "df.dtypes"
      ]
    },
    {
      "cell_type": "markdown",
      "id": "e2132123-9ba8-4fb4-b67b-93db4c2d7229",
      "metadata": {
        "id": "e2132123-9ba8-4fb4-b67b-93db4c2d7229"
      },
      "source": [
        "<b style=\"font-size:22px\">Estandarización de columnas solo de variables numéricas:</b>"
      ]
    },
    {
      "cell_type": "code",
      "execution_count": null,
      "id": "a806704e-4e2a-4d42-908a-a1c40e506856",
      "metadata": {
        "id": "a806704e-4e2a-4d42-908a-a1c40e506856"
      },
      "outputs": [],
      "source": [
        "scaler = StandardScaler()"
      ]
    },
    {
      "cell_type": "code",
      "execution_count": null,
      "id": "939ffe29-8f76-4637-9495-adfc441eb6d7",
      "metadata": {
        "id": "939ffe29-8f76-4637-9495-adfc441eb6d7"
      },
      "outputs": [],
      "source": [
        "columnas_numericas = df.select_dtypes(include=['float64', 'int64']).columns.drop(\"Objetivo\")\n",
        "df[columnas_numericas] = scaler.fit_transform(df[columnas_numericas])\n",
        "print(df[columnas_numericas].describe())"
      ]
    },
    {
      "cell_type": "code",
      "execution_count": null,
      "id": "342024ba-caff-456b-a3ee-727ea7a6dc4b",
      "metadata": {
        "id": "342024ba-caff-456b-a3ee-727ea7a6dc4b"
      },
      "outputs": [],
      "source": [
        "df['Objetivo'] # La excluímos de la transformación ya que debe ser un entero."
      ]
    },
    {
      "cell_type": "markdown",
      "id": "583775c7-5747-407e-b72e-d4686ba764cd",
      "metadata": {
        "id": "583775c7-5747-407e-b72e-d4686ba764cd"
      },
      "source": [
        "<b font-size:26px>🧪 Conclusión Final: <br>\n",
        "Se aplicó una transformación logarítmica a las variables con notación científica para reducir su sesgo y valores extremos. Posteriormente, se estandarizaron todas las variables numéricas para que tengan una media de 0 y una desviación estándar de 1. Esta estandarización es crucial al utilizar modelos de clasificación, ya que garantiza que todas las características contribuyan de manera equitativa al modelo.</b>"
      ]
    },
    {
      "cell_type": "markdown",
      "source": [
        "# Pre- Entrega N°3\n",
        "- Trabajo sobre un modelo de aprendizaje supervisado.\n",
        "- Ajuste de modelos de clasificación o regresión.\n",
        "- Evaluación de los modelos.\n",
        "- Optimización de hiperparámetros."
      ],
      "metadata": {
        "id": "xyMCBiS0I1Q7"
      },
      "id": "xyMCBiS0I1Q7"
    },
    {
      "cell_type": "markdown",
      "id": "b86a0fff-9cb1-46a7-993b-7c9486a2dbdd",
      "metadata": {
        "id": "b86a0fff-9cb1-46a7-993b-7c9486a2dbdd"
      },
      "source": [
        "<p>Algoritmo a utilizar: Árbol de decisión, ya que hay varias columnas con distribuiciones que no son normales o estan sesgadas. </p>"
      ]
    },
    {
      "cell_type": "code",
      "execution_count": null,
      "id": "2e291f83-c797-43f3-8152-86e66e17b49f",
      "metadata": {
        "id": "2e291f83-c797-43f3-8152-86e66e17b49f"
      },
      "outputs": [],
      "source": [
        "# Target debe ser de tipo entero, por lo tanto la excluimos de la transformación.\n",
        "# Pasos a seguir:\n",
        "# Elegir el algoritmo\n",
        "# Entrenar el modelo\n",
        "# Evaluar el modelo Métricas (Ver si hay overfitting)\n",
        "# Ajustar hiperparámetros (tuning)\n",
        "# Validación cruzada\n",
        "# Interpretar el modelo"
      ]
    },
    {
      "cell_type": "markdown",
      "id": "e9703465-5437-4819-92fd-12e770a9e7b0",
      "metadata": {
        "id": "e9703465-5437-4819-92fd-12e770a9e7b0"
      },
      "source": [
        "<b>1. Separamos variables predictoras y objetivo - Excluímos las categóricas </b>"
      ]
    },
    {
      "cell_type": "code",
      "execution_count": null,
      "id": "1795cfbf-b582-4e38-888d-f03b6ac3377e",
      "metadata": {
        "id": "1795cfbf-b582-4e38-888d-f03b6ac3377e"
      },
      "outputs": [],
      "source": [
        "X = df.drop(columns=[\"Índice\", \"Objetivo\", \"Fuente\", \"Color\", \"Mes\"])\n",
        "y = df[\"Objetivo\"]"
      ]
    },
    {
      "cell_type": "markdown",
      "id": "cabf39dd-591f-4b6b-9073-1a5f87116a52",
      "metadata": {
        "id": "cabf39dd-591f-4b6b-9073-1a5f87116a52"
      },
      "source": [
        "<b>2. División entrenamiento / prueba </b>"
      ]
    },
    {
      "cell_type": "code",
      "execution_count": null,
      "id": "71cd83e8-d7dc-4116-b2a9-afc63f88cba1",
      "metadata": {
        "id": "71cd83e8-d7dc-4116-b2a9-afc63f88cba1"
      },
      "outputs": [],
      "source": [
        "X_train, X_test, y_train, y_test = train_test_split(\n",
        "    X, y, test_size=0.2, random_state=42, stratify=y\n",
        ")\n",
        "#X_train, y_train: 80 % de los datos, para entrenar el modelo.\n",
        "#X_test, y_test: 20 % de los datos, para evaluar el modelo (probar cómo funciona con datos que no “vio” durante el entrenamiento)."
      ]
    },
    {
      "cell_type": "markdown",
      "id": "d75e0a55-00d4-433f-a02e-66e327aa9d96",
      "metadata": {
        "id": "d75e0a55-00d4-433f-a02e-66e327aa9d96"
      },
      "source": [
        "<b>3. Definimos el modelo y la grilla de hiperparámetros para GridSearchCV para hallar el mejor modelo :</b>"
      ]
    },
    {
      "cell_type": "code",
      "execution_count": null,
      "id": "049769c4-7aaf-4cb0-aca5-5d08b9733896",
      "metadata": {
        "id": "049769c4-7aaf-4cb0-aca5-5d08b9733896"
      },
      "outputs": [],
      "source": [
        "from sklearn.model_selection import GridSearchCV\n",
        "# Árbol con ajuste de peso para clases desbalanceadas (presta atención a la clase minoritaria)\n",
        "\n",
        "dt = DecisionTreeClassifier(random_state=42, class_weight='balanced')\n",
        "\n",
        "param_grid = {\n",
        "    'max_depth': [5, 10, 20, None],\n",
        "    'min_samples_split': [2, 5, 10],\n",
        "    'criterion': ['gini', 'entropy']\n",
        "}"
      ]
    },
    {
      "cell_type": "markdown",
      "id": "23f9483b-77cc-4e7d-baf4-a1ca54611f11",
      "metadata": {
        "id": "23f9483b-77cc-4e7d-baf4-a1ca54611f11"
      },
      "source": [
        "<b> 4. Creamos y entrenamos el GridSearchCV (solo con datos de entrenamiento x_train y_train) y usamos validación cruzada:</b>"
      ]
    },
    {
      "cell_type": "code",
      "execution_count": null,
      "id": "10d6b393-86d3-4c38-a6e0-a4bcfac99bbc",
      "metadata": {
        "id": "10d6b393-86d3-4c38-a6e0-a4bcfac99bbc"
      },
      "outputs": [],
      "source": [
        "# cv=5 La validación cruzada 5-fold que divide X_train en 5 partes y entrena/evalúa 5 veces por cada combinación.\n",
        "grid_search = GridSearchCV(estimator=dt, param_grid=param_grid,\n",
        "                           cv=5, scoring='f1', n_jobs=-1)\n",
        "\n",
        "grid_search.fit(X_train, y_train)"
      ]
    },
    {
      "cell_type": "markdown",
      "id": "f0ac6d38-0c4d-4e2c-ba37-e5e4f6691cf0",
      "metadata": {
        "id": "f0ac6d38-0c4d-4e2c-ba37-e5e4f6691cf0"
      },
      "source": [
        "<b>5. GridSearchCV se queda con la combinación de hiperparámetros que dio el mejor resultado. Los mejores modelos son:</b>"
      ]
    },
    {
      "cell_type": "code",
      "execution_count": null,
      "id": "9e5ddf1a-ffa2-4749-aa6e-7b95a6abeea8",
      "metadata": {
        "id": "9e5ddf1a-ffa2-4749-aa6e-7b95a6abeea8"
      },
      "outputs": [],
      "source": [
        "print(\"Mejores parámetros:\", grid_search.best_params_)\n",
        "print(\"Mejor score F1:\", grid_search.best_score_)\n",
        "# Nos da el modelo con esos hiperparámetros que mejor rindió, en promedio, un F1 de 0.83 durante validación cruzada"
      ]
    },
    {
      "cell_type": "code",
      "execution_count": null,
      "id": "2d38b22c-0a98-49b9-bcaf-16e91b6801c8",
      "metadata": {
        "id": "2d38b22c-0a98-49b9-bcaf-16e91b6801c8"
      },
      "outputs": [],
      "source": [
        "mejor_modelo = grid_search.best_estimator_"
      ]
    },
    {
      "cell_type": "markdown",
      "id": "29ec28f8-78d3-4439-befc-77b8888ac368",
      "metadata": {
        "id": "29ec28f8-78d3-4439-befc-77b8888ac368"
      },
      "source": [
        "<b>6. Hacemos predicciones con los datos de x_test usando el mejor modelo: </b>"
      ]
    },
    {
      "cell_type": "code",
      "execution_count": null,
      "id": "18f7a1d3-0ed3-44f3-9222-2da5ab531b86",
      "metadata": {
        "id": "18f7a1d3-0ed3-44f3-9222-2da5ab531b86"
      },
      "outputs": [],
      "source": [
        "y_pred_test = mejor_modelo.predict(X_test)\n",
        "\n",
        "# y_pred : predicciones que el modelo hace sobre los datos de prueba, que normalmente son datos que el modelo no ha visto antes.\n",
        "# Usa el mejor modelo para hacer predicciones sobre los datos de prueba (X_test)."
      ]
    },
    {
      "cell_type": "code",
      "execution_count": null,
      "id": "2e75ae88-d57f-4b0f-8d11-582b504fa374",
      "metadata": {
        "id": "2e75ae88-d57f-4b0f-8d11-582b504fa374"
      },
      "outputs": [],
      "source": [
        "from sklearn.metrics import accuracy_score, precision_score, recall_score, f1_score, confusion_matrix, classification_report"
      ]
    },
    {
      "cell_type": "markdown",
      "id": "126a31e5-59ac-4635-809f-a1fa850b6c80",
      "metadata": {
        "id": "126a31e5-59ac-4635-809f-a1fa850b6c80"
      },
      "source": [
        "<h1>Métricas: </h1>"
      ]
    },
    {
      "cell_type": "code",
      "execution_count": null,
      "id": "efbf4bca-2e50-48c6-aa76-aa47901cab2b",
      "metadata": {
        "id": "efbf4bca-2e50-48c6-aa76-aa47901cab2b"
      },
      "outputs": [],
      "source": [
        "# La matriz de confusión corresponde solo a las predicciones hechas sobre el conjunto de prueba (X_test) 0.2 = 20%\n",
        "# x_test son datos que el modelo nunca 'vio' antes."
      ]
    },
    {
      "cell_type": "code",
      "execution_count": null,
      "id": "8fcdd458-ce30-4f3e-baab-fff8259a6ea6",
      "metadata": {
        "id": "8fcdd458-ce30-4f3e-baab-fff8259a6ea6"
      },
      "outputs": [],
      "source": [
        "# Generamos la matriz de confusión para comparar las predicciones del modelo (y_pred) con las etiquetas reales (y_test).\n",
        "cm = confusion_matrix(y_test, y_pred_test)\n",
        "print(\"Matriz de confusión, aplicando foco a la clase minoritaria por desbalance:\", cm)"
      ]
    },
    {
      "cell_type": "markdown",
      "id": "e5f6f3b0-9362-4b29-a012-dc6ff1300b03",
      "metadata": {
        "id": "e5f6f3b0-9362-4b29-a012-dc6ff1300b03"
      },
      "source": [
        "<b>Antes de aplicar los hiperparametros:</b>\n",
        "<ul>\n",
        "<li>32448 Verdaderos Negativos (VN): El modelo predijo \"No potable\" y realmente no era potable.</li>\n",
        "<li>2569 Falsos Positivos (FP): El modelo predijo \"Potable\" cuando en realidad no era potable </li>\n",
        "<li>2747 Falsos Negativos (FN): El modelo predijo \"No potable\" cuando en realidad sí era potable.</li>\n",
        "<li>7538 Verdaderos Positivos (VP): El modelo predijo \"Potable\" y realmente era potable.</li>\n",
        "<ul>\n",
        "<br>\n",
        "<b>Luego de aplicar hiperparámetros: </b>\n",
        "<ul>\n",
        "<li>VN: 32107 El modelo acertó al decir que el agua no era potable.</li>\n",
        "<li>FP: 2910 El modelo se equivocó: dijo que el agua era potable, pero no lo era.</li>\n",
        "<li>FN: 749 El modelo se equivocó: dijo que el agua no era potable, pero sí lo era.</li>\n",
        "<li>TP: 9536 El modelo acertó al decir que el agua era potable.</li>\n",
        "</ul>\n",
        "<br>\n",
        "<i>Conclusión: El ajuste de hiperparámetros mejoró el modelo, especialmente para detectar correctamente cuándo el agua es potable, nuestro objetivo. </i>"
      ]
    },
    {
      "cell_type": "code",
      "execution_count": null,
      "id": "b4b1138a-f5c8-44a7-b1b9-ba13ce2bed5c",
      "metadata": {
        "id": "b4b1138a-f5c8-44a7-b1b9-ba13ce2bed5c"
      },
      "outputs": [],
      "source": [
        "print(\"\\nReporte de clasificación con hiperparámetros:\")\n",
        "print(classification_report(y_test, y_pred_test)) # Calcula esas métricas comparando las  predicciones y_pred con las etiquetas reales y_test."
      ]
    },
    {
      "cell_type": "code",
      "execution_count": null,
      "id": "d1d96199-5867-4dc0-b235-ef8f1518a189",
      "metadata": {
        "id": "d1d96199-5867-4dc0-b235-ef8f1518a189"
      },
      "outputs": [],
      "source": [
        "df.shape # se redujo porque no tiene en cuenta X = Índice\", \"Objetivo\", \"Fuente\", \"Color\", \"Mes\" , en este punto."
      ]
    },
    {
      "cell_type": "code",
      "execution_count": null,
      "id": "fd81771c-ad6f-42d5-9e41-ba76eaa4ac9c",
      "metadata": {
        "id": "fd81771c-ad6f-42d5-9e41-ba76eaa4ac9c"
      },
      "outputs": [],
      "source": [
        "# Evaluar si hay overfitting. Probar otro algoritmo RandomForest"
      ]
    },
    {
      "cell_type": "markdown",
      "source": [
        "# ¿Por qué es valioso analizar el tipo de fuente?\n",
        "*   Se podrá entender causas probables de potabilidad: Si ciertas fuentes como pozos o manantiales tienen mayor proporción de agua potable, eso ayuda a interpretar el problema más allá de solo predecir.\n",
        "*   Complementa el modelo con insights útiles: En una presentación o entrega, mostrar gráficamente qué fuentes se asocian más o menos con potabilidad te da fuerza argumentativa.\n",
        "*   Puede explicar parte del rendimiento del modelo: Si una fuente tiene pocos datos y mucha variabilidad, puede ser difícil de predecir.\n",
        "\n",
        "Entonces se va a usar ese mismo conjunto de prueba (X_test), pero dividirlo por tipo de fuente de agua (río, pozo, lago, etc.) y ver cómo se comporta el modelo en cada una."
      ],
      "metadata": {
        "id": "T-YfZEzoKH-q"
      },
      "id": "T-YfZEzoKH-q"
    },
    {
      "cell_type": "code",
      "source": [
        "# Lista de columnas que indican la fuente de agua\n",
        "columnas_fuente = [col for col in df.columns if col.startswith(\"Fuente_\")]\n",
        "\n",
        "# Creamos un diccionario para guardar los resultados\n",
        "resultados_fuente = {}\n",
        "\n",
        "# Recorremos cada columna de fuente (cada una es True/False)\n",
        "for col in columnas_fuente:\n",
        "    # Filtramos el dataframe para quedarnos solo con las muestras de esa fuente\n",
        "    df_filtrado = df[df[col] == True]\n",
        "\n",
        "    # Calculamos la proporción de agua potable para esa fuente\n",
        "    proporcion_potable = df_filtrado[\"Objetivo\"].mean()\n",
        "    cantidad = df_filtrado.shape[0]\n",
        "\n",
        "    # Guardamos los resultados\n",
        "    resultados_fuente[col.replace(\"Fuente_\", \"\")] = {\n",
        "        \"Proporción potable\": proporcion_potable,\n",
        "        \"Cantidad de muestras\": cantidad\n",
        "    }\n",
        "\n",
        "    # Convertimos el diccionario a un dataframe ordenado por proporción potable\n",
        "df_resultados_fuente = pd.DataFrame(resultados_fuente).T.sort_values(\n",
        "    by=\"Proporción potable\", ascending=False\n",
        ")\n",
        "\n",
        "# Mostramos el dataframe\n",
        "print(df_resultados_fuente)"
      ],
      "metadata": {
        "id": "9KBfhrraLprb"
      },
      "id": "9KBfhrraLprb",
      "execution_count": null,
      "outputs": []
    },
    {
      "cell_type": "markdown",
      "source": [
        "## Objetivo del análisis\n",
        "Explorar si el origen del agua (fuente) afecta el desempeño del modelo de clasificación. En particular, buscamos ver si el modelo logra detectar correctamente el agua potable (clase 1) con buen balance entre precisión y recall para cada tipo de fuente.\n",
        "\n"
      ],
      "metadata": {
        "id": "kFCF5T0ZPMJX"
      },
      "id": "kFCF5T0ZPMJX"
    },
    {
      "cell_type": "code",
      "source": [
        "# Visualizamos la proporción de potabilidad por tipo de fuente\n",
        "plt.figure(figsize=(10, 6))\n",
        "sns.barplot(x=df_resultados_fuente.index, y=df_resultados_fuente[\"Proporción potable\"], palette=\"viridis\")\n",
        "plt.title(\"Proporción de agua potable según fuente\")\n",
        "plt.ylabel(\"Proporción de agua potable\")\n",
        "plt.xlabel(\"Tipo de fuente\")\n",
        "plt.ylim(0, 0.25)\n",
        "plt.xticks(rotation=45)\n",
        "plt.grid(axis='y', linestyle='--', alpha=0.7)\n",
        "plt.tight_layout()\n",
        "plt.show()\n"
      ],
      "metadata": {
        "id": "sZLZ8C6nL2N7"
      },
      "id": "sZLZ8C6nL2N7",
      "execution_count": null,
      "outputs": []
    },
    {
      "cell_type": "code",
      "source": [
        "from sklearn.ensemble import RandomForestClassifier\n",
        "from sklearn.metrics import classification_report\n",
        "import pandas as pd\n",
        "\n",
        "# 1. Entrenar el modelo con todo el set de entrenamiento\n",
        "rf_model = RandomForestClassifier(\n",
        "    n_estimators=100,\n",
        "    max_depth=20,\n",
        "    class_weight='balanced',\n",
        "    random_state=42,\n",
        "    n_jobs=-1\n",
        ")\n",
        "\n",
        "rf_model.fit(X_train, y_train)\n",
        "\n",
        "# 2. Lista de columnas que indican tipo de fuente\n",
        "columnas_fuente = [\n",
        "    'Fuente_Aquifer', 'Fuente_Ground', 'Fuente_Lake',\n",
        "    'Fuente_Reservoir', 'Fuente_River', 'Fuente_Spring', 'Fuente_Stream', 'Fuente_Well'\n",
        "]\n",
        "\n",
        "# 3. Evaluar el modelo por cada tipo de fuente\n",
        "for fuente in columnas_fuente:\n",
        "    print(f\"\\n🔍 Evaluando para: {fuente.replace('Fuente_', '')}\")\n",
        "\n",
        "    # Filtramos solo las muestras de prueba que provienen de esta fuente\n",
        "    filtro = X_test[X_test[fuente] == True]\n",
        "\n",
        "    # Si no hay muestras, pasamos\n",
        "    if filtro.empty:\n",
        "        print(\"No hay muestras de esta fuente en el set de prueba.\")\n",
        "        continue\n",
        "\n",
        "    # Predicciones para esta fuente\n",
        "    y_real = y_test.loc[filtro.index]\n",
        "    y_pred = rf_model.predict(filtro)\n",
        "\n",
        "    # Reporte de métricas\n",
        "    print(classification_report(y_real, y_pred, digits=3))"
      ],
      "metadata": {
        "id": "v9eqOrBlNHci"
      },
      "id": "v9eqOrBlNHci",
      "execution_count": null,
      "outputs": []
    },
    {
      "cell_type": "markdown",
      "source": [
        "El modelo Random Forest mantiene un rendimiento constante y sólido sin importar el tipo de fuente. Todos los valores de accuracy están alrededor del 91%-93%.\n",
        "\n",
        "El F1-score para la clase 1 (agua potable), que es nuestro objetivo principal, se mantiene alto en todas las fuentes (entre 0.839 y 0.862). Esto significa que el modelo detecta correctamente la mayoría de los casos de agua potable y con buena precisión.\n",
        "\n",
        "El recall para clase 1 ronda el 97-98% en todas las fuentes, lo que indica que el modelo casi nunca falla en detectar agua potable.\n",
        "\n",
        "No es necesario entrenar modelos por separado por fuente, ya que no hay un tipo de fuente que tenga un mal desempeño o que degrade el rendimiento general."
      ],
      "metadata": {
        "id": "lggnghK8PVJf"
      },
      "id": "lggnghK8PVJf"
    },
    {
      "cell_type": "code",
      "source": [
        "importancias = rf_model.feature_importances_\n",
        "nombres = X.columns\n",
        "\n",
        "df_importancias = pd.DataFrame({\"Variable\": nombres, \"Importancia\": importancias})\n",
        "df_importancias = df_importancias.sort_values(\"Importancia\", ascending=False)\n",
        "\n",
        "plt.figure(figsize=(10, 6))\n",
        "sns.barplot(x=\"Importancia\", y=\"Variable\", data=df_importancias.head(15))\n",
        "plt.title(\"🎯 Importancia de variables en Random Forest\")\n",
        "plt.tight_layout()\n",
        "plt.show()"
      ],
      "metadata": {
        "id": "GAGvVRSUPnqT"
      },
      "id": "GAGvVRSUPnqT",
      "execution_count": null,
      "outputs": []
    },
    {
      "cell_type": "code",
      "source": [
        "from sklearn.model_selection import train_test_split\n",
        "\n",
        "# Supongamos que X es tu dataset de entrada y y es el target\n",
        "X = df.drop(columns=[\"Índice\", \"Objetivo\", \"Fuente\", \"Color\", \"Mes\"])\n",
        "y = df[\"Objetivo\"]\n",
        "\n",
        "X_train, X_test, y_train, y_test = train_test_split(\n",
        "    X, y, test_size=0.2, random_state=42, stratify=y\n",
        ")"
      ],
      "metadata": {
        "id": "LtEOwlcG7QsO"
      },
      "id": "LtEOwlcG7QsO",
      "execution_count": null,
      "outputs": []
    },
    {
      "cell_type": "markdown",
      "source": [
        "# Support Vector Machine\n",
        "Es un algoritmo supervisado usado tanto para clasificación como regresión. La idea central es encontrar el hiperplano que mejor separa las clases en el espacio de características. Es especialmente útil cuando hay claras fronteras entre clases y no muchos outliers. Para problemas no lineales, SVM puede transformar el espacio usando kernels (como RBF o polinómico) para lograr una separación más clara."
      ],
      "metadata": {
        "id": "iFGmItgjNB6o"
      },
      "id": "iFGmItgjNB6o"
    },
    {
      "cell_type": "code",
      "source": [
        "# Usar solo el 20% del entrenamiento para probar SVM más rápido\n",
        "from sklearn.model_selection import train_test_split\n",
        "from sklearn.pipeline import Pipeline\n",
        "from sklearn.preprocessing import StandardScaler\n",
        "from sklearn.svm import SVC\n",
        "\n",
        "# Define the pipeline_svm here\n",
        "pipeline_svm = Pipeline([\n",
        "    ('scaler', StandardScaler()),\n",
        "    ('svm', SVC(kernel='linear', C=1, class_weight='balanced', random_state=42))\n",
        "])\n",
        "\n",
        "\n",
        "X_train_svm, _, y_train_svm, _ = train_test_split(\n",
        "    X_train, y_train, train_size=0.2, stratify=y_train, random_state=42\n",
        ")\n",
        "\n",
        "# Volvemos a entrenar el pipeline con menos datos\n",
        "pipeline_svm.fit(X_train_svm, y_train_svm)\n",
        "\n",
        "# Predicción sobre el test completo\n",
        "y_pred_svm = pipeline_svm.predict(X_test)\n",
        "\n",
        "# Reporte\n",
        "print(\"🔍 Reporte de clasificación para SVM con 20% de los datos:\")\n",
        "print(classification_report(y_test, y_pred_svm, digits=3))"
      ],
      "metadata": {
        "id": "ODjZMv0eNKkN"
      },
      "id": "ODjZMv0eNKkN",
      "execution_count": null,
      "outputs": []
    },
    {
      "cell_type": "code",
      "source": [
        "X_train, X_test, y_train, y_test = train_test_split(\n",
        "    X, y, test_size=0.2, stratify=y, random_state=42\n",
        ")\n"
      ],
      "metadata": {
        "id": "xmIqtm0X-c5D"
      },
      "id": "xmIqtm0X-c5D",
      "execution_count": null,
      "outputs": []
    },
    {
      "cell_type": "code",
      "source": [
        "cm = confusion_matrix(y_test, y_pred_svm)\n",
        "\n",
        "plt.figure(figsize=(6, 4))\n",
        "sns.heatmap(cm, annot=True, fmt='d', cmap='Blues',\n",
        "            xticklabels=[\"No potable\", \"Potable\"],\n",
        "            yticklabels=[\"No potable\", \"Potable\"])\n",
        "plt.xlabel(\"Predicción\")\n",
        "plt.ylabel(\"Valor real\")\n",
        "plt.title(\"Matriz de Confusión - SVM (20% del entrenamiento)\")\n",
        "plt.tight_layout()\n",
        "plt.show()\n"
      ],
      "metadata": {
        "id": "plcjxE2a-irJ"
      },
      "id": "plcjxE2a-irJ",
      "execution_count": null,
      "outputs": []
    },
    {
      "cell_type": "markdown",
      "source": [
        "**Interpretación de las métricas**\n",
        "\n",
        "✅ Precisión\n",
        "Clase 0 (No potable): 0.908 → El modelo es muy preciso al decir que el agua no es potable, es decir, cuando predice \"no potable\", casi siempre acierta.\n",
        "\n",
        "Clase 1 (Potable): 0.484 → La precisión es baja. Significa que cuando el modelo dice que el agua es potable, se equivoca más de la mitad de las veces.\n",
        "\n",
        "✅ Exhaustividad (Recall)\n",
        "Clase 0: 0.770 → Detecta el 77% de los verdaderos casos de \"no potable\".\n",
        "\n",
        "Clase 1: 0.734 → Este valor es bueno, significa que detecta correctamente el 73% de los casos donde el agua sí es potable (recuerda que esta es la clase minoritaria).\n",
        "\n",
        "✅ F1-Score\n",
        "Clase 0: 0.833 → Buen equilibrio entre precisión y recall para detectar agua no potable.\n",
        "\n",
        "Clase 1: 0.583 → Es moderado, porque aunque detecta bien los potables, se equivoca mucho en la predicción."
      ],
      "metadata": {
        "id": "zj0rdB1i6A-z"
      },
      "id": "zj0rdB1i6A-z"
    },
    {
      "cell_type": "markdown",
      "source": [],
      "metadata": {
        "id": "RkPAWTTn546D"
      },
      "id": "RkPAWTTn546D"
    },
    {
      "cell_type": "markdown",
      "source": [
        "## 📌 1️⃣ Comparar métricas clave de los modelos"
      ],
      "metadata": {
        "id": "QPaj6x5QbQ9h"
      },
      "id": "QPaj6x5QbQ9h"
    },
    {
      "cell_type": "code",
      "source": [
        "# 📝 Qué hace: crea una tabla clara para comparar rendimiento de los tres modelos con las métricas más usadas.\n",
        "# Supongamos que ya calculaste estas métricas antes para cada modelo:\n",
        "# (Reemplazá con los valores reales que obtuviste en tu notebook)\n",
        "\n",
        "accuracy_dt = 0.92\n",
        "precision_dt = 0.75\n",
        "recall_dt = 0.97\n",
        "f1_dt = 0.84\n",
        "\n",
        "accuracy_rf = 0.92\n",
        "precision_rf = 0.75\n",
        "recall_rf = 0.97\n",
        "f1_rf = 0.85\n",
        "\n",
        "accuracy_svm = 0.91\n",
        "precision_svm = 0.70\n",
        "recall_svm = 0.99\n",
        "f1_svm = 0.82\n",
        "\n",
        "# Creamos un DataFrame para comparar\n",
        "import pandas as pd\n",
        "\n",
        "resultados = pd.DataFrame({\n",
        "    \"Modelo\": [\"Decision Tree\", \"Random Forest\", \"SVM\"],\n",
        "    \"Accuracy\": [accuracy_dt, accuracy_rf, accuracy_svm],\n",
        "    \"Precision\": [precision_dt, precision_rf, precision_svm],\n",
        "    \"Recall\": [recall_dt, recall_rf, recall_svm],\n",
        "    \"F1\": [f1_dt, f1_rf, f1_svm]\n",
        "})\n",
        "\n",
        "# Mostramos la tabla comparativa\n",
        "print(\"🔎 Comparación de métricas:\")\n",
        "print(resultados)\n"
      ],
      "metadata": {
        "id": "q5i0FG6pbURG"
      },
      "id": "q5i0FG6pbURG",
      "execution_count": null,
      "outputs": []
    },
    {
      "cell_type": "markdown",
      "source": [
        "## 📌 2️⃣ Graficar matriz de confusión como heatmap\n"
      ],
      "metadata": {
        "id": "XBX8J6IgbcqK"
      },
      "id": "XBX8J6IgbcqK"
    },
    {
      "cell_type": "code",
      "source": [
        "# Qué hace: dibuja las matrices de confusión para visualizar de forma clara aciertos y errores de cada modelo.\n",
        "import seaborn as sns\n",
        "import matplotlib.pyplot as plt\n",
        "from sklearn.metrics import confusion_matrix\n",
        "\n",
        "# Función para graficar matriz de confusión\n",
        "def plot_cm(y_true, y_pred, titulo):\n",
        "    cm = confusion_matrix(y_true, y_pred)\n",
        "    plt.figure(figsize=(5,4))\n",
        "    sns.heatmap(cm, annot=True, fmt=\"d\", cmap=\"Blues\")\n",
        "    plt.title(titulo)\n",
        "    plt.xlabel('Predicho')\n",
        "    plt.ylabel('Real')\n",
        "    plt.show()\n",
        "\n",
        "# Usá esto para cada modelo (reemplazá y_pred_xxx con tus predicciones)\n",
        "# plot_cm(y_test, y_pred_dt, \"Matriz de Confusión - Decision Tree\")\n",
        "# plot_cm(y_test, y_pred_rf, \"Matriz de Confusión - Random Forest\")\n",
        "# plot_cm(y_test, y_pred_svm, \"Matriz de Confusión - SVM\")\n"
      ],
      "metadata": {
        "id": "9fCfJz_YbgUs"
      },
      "id": "9fCfJz_YbgUs",
      "execution_count": null,
      "outputs": []
    },
    {
      "cell_type": "code",
      "source": [
        "# 3️⃣ Ver importancia de las variables (para árboles)\n",
        "# Para Random Forest o Decision Tree\n",
        "importances = rf_model.feature_importances_\n",
        "features = X.columns\n",
        "importancia_df = pd.DataFrame({\"Variable\": features, \"Importancia\": importances})\n",
        "importancia_df = importancia_df.sort_values(by=\"Importancia\", ascending=False)\n",
        "\n",
        "# Mostrar top 10\n",
        "print(\"🔎 Top 10 variables más importantes según Random Forest:\")\n",
        "print(importancia_df.head(10))\n",
        "\n",
        "# (Opcional) Gráfico\n",
        "sns.barplot(x=\"Importancia\", y=\"Variable\", data=importancia_df.head(10))\n",
        "plt.title(\"Importancia de variables - Random Forest\")\n",
        "plt.show()\n",
        "\n"
      ],
      "metadata": {
        "id": "W0Jr6jmZbnMn"
      },
      "id": "W0Jr6jmZbnMn",
      "execution_count": null,
      "outputs": []
    },
    {
      "cell_type": "markdown",
      "source": [
        "➡️ Se compararon tres modelos: Decision Tree, Random Forest y SVM.\n",
        "➡️ Random Forest tuvo el mejor equilibrio entre precision y recall, con un f1-score más alto.\n",
        "➡️ SVM mostró un recall muy alto pero menor precision, lo que indica que predice casi todos los potables pero con más falsos positivos.\n",
        "➡️ Las variables más importantes fueron: [acá listás las top 3 de la tabla].\n",
        "➡️ A futuro se podría:\n",
        "- Probar XGBoost o LightGBM.\n",
        "- Aplicar reducción de dimensionalidad (PCA).\n",
        "- Incluir nuevas variables contextuales."
      ],
      "metadata": {
        "id": "ioys_CpqbwyF"
      },
      "id": "ioys_CpqbwyF"
    }
  ],
  "metadata": {
    "colab": {
      "provenance": [],
      "include_colab_link": true
    },
    "kernelspec": {
      "display_name": "Python [conda env:base] *",
      "language": "python",
      "name": "conda-base-py"
    },
    "language_info": {
      "codemirror_mode": {
        "name": "ipython",
        "version": 3
      },
      "file_extension": ".py",
      "mimetype": "text/x-python",
      "name": "python",
      "nbconvert_exporter": "python",
      "pygments_lexer": "ipython3",
      "version": "3.12.7"
    }
  },
  "nbformat": 4,
  "nbformat_minor": 5
}